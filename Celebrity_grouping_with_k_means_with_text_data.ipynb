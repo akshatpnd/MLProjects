{
 "cells": [
  {
   "cell_type": "code",
   "execution_count": 1,
   "metadata": {
    "colab": {},
    "colab_type": "code",
    "id": "kiEZ4OQ6qEsE"
   },
   "outputs": [],
   "source": [
    "import pandas as pd\n",
    "import matplotlib.pyplot as plt\n",
    "import numpy as np\n",
    "import sys\n",
    "import os\n",
    "from scipy.sparse import csr_matrix\n",
    "from sklearn.model_selection import train_test_split\n",
    "%matplotlib inline"
   ]
  },
  {
   "cell_type": "markdown",
   "metadata": {
    "colab_type": "text",
    "id": "qSBcP9_aqEsI"
   },
   "source": [
    "# Load data, Extract features"
   ]
  },
  {
   "cell_type": "code",
   "execution_count": 2,
   "metadata": {
    "colab": {},
    "colab_type": "code",
    "id": "kSpxKbGTqEsJ"
   },
   "outputs": [
    {
     "data": {
      "text/html": [
       "<div>\n",
       "<style scoped>\n",
       "    .dataframe tbody tr th:only-of-type {\n",
       "        vertical-align: middle;\n",
       "    }\n",
       "\n",
       "    .dataframe tbody tr th {\n",
       "        vertical-align: top;\n",
       "    }\n",
       "\n",
       "    .dataframe thead th {\n",
       "        text-align: right;\n",
       "    }\n",
       "</style>\n",
       "<table border=\"1\" class=\"dataframe\">\n",
       "  <thead>\n",
       "    <tr style=\"text-align: right;\">\n",
       "      <th></th>\n",
       "      <th>URI</th>\n",
       "      <th>name</th>\n",
       "      <th>text</th>\n",
       "    </tr>\n",
       "  </thead>\n",
       "  <tbody>\n",
       "    <tr>\n",
       "      <th>50034</th>\n",
       "      <td>&lt;http://dbpedia.org/resource/Mauno_J%C3%A4rvel...</td>\n",
       "      <td>Mauno J%C3%A4rvel%C3%A4</td>\n",
       "      <td>mauno jrvel born 25 november 1949 in kaustinen...</td>\n",
       "    </tr>\n",
       "    <tr>\n",
       "      <th>39362</th>\n",
       "      <td>&lt;http://dbpedia.org/resource/David_W._Jourdan&gt;</td>\n",
       "      <td>David W. Jourdan</td>\n",
       "      <td>david walter jourdan born december 5 1954 is a...</td>\n",
       "    </tr>\n",
       "    <tr>\n",
       "      <th>20786</th>\n",
       "      <td>&lt;http://dbpedia.org/resource/Patrick_Roach&gt;</td>\n",
       "      <td>Patrick Roach</td>\n",
       "      <td>patrick roach born march 4 1969 is a canadian ...</td>\n",
       "    </tr>\n",
       "    <tr>\n",
       "      <th>26367</th>\n",
       "      <td>&lt;http://dbpedia.org/resource/Louis_Sauer&gt;</td>\n",
       "      <td>Louis Sauer</td>\n",
       "      <td>louis lou sauer aka louis edward sauer born 19...</td>\n",
       "    </tr>\n",
       "    <tr>\n",
       "      <th>14855</th>\n",
       "      <td>&lt;http://dbpedia.org/resource/Marty_Keough&gt;</td>\n",
       "      <td>Marty Keough</td>\n",
       "      <td>richard martin keough born april 14 1934 in oa...</td>\n",
       "    </tr>\n",
       "  </tbody>\n",
       "</table>\n",
       "</div>"
      ],
      "text/plain": [
       "                                                     URI  \\\n",
       "50034  <http://dbpedia.org/resource/Mauno_J%C3%A4rvel...   \n",
       "39362     <http://dbpedia.org/resource/David_W._Jourdan>   \n",
       "20786        <http://dbpedia.org/resource/Patrick_Roach>   \n",
       "26367          <http://dbpedia.org/resource/Louis_Sauer>   \n",
       "14855         <http://dbpedia.org/resource/Marty_Keough>   \n",
       "\n",
       "                          name  \\\n",
       "50034  Mauno J%C3%A4rvel%C3%A4   \n",
       "39362         David W. Jourdan   \n",
       "20786            Patrick Roach   \n",
       "26367              Louis Sauer   \n",
       "14855             Marty Keough   \n",
       "\n",
       "                                                    text  \n",
       "50034  mauno jrvel born 25 november 1949 in kaustinen...  \n",
       "39362  david walter jourdan born december 5 1954 is a...  \n",
       "20786  patrick roach born march 4 1969 is a canadian ...  \n",
       "26367  louis lou sauer aka louis edward sauer born 19...  \n",
       "14855  richard martin keough born april 14 1934 in oa...  "
      ]
     },
     "execution_count": 2,
     "metadata": {},
     "output_type": "execute_result"
    }
   ],
   "source": [
    "wiki = pd.read_csv('people_wiki.csv')\n",
    "wiki = wiki.sample(frac=0.1, random_state=0) # Using 10% of the data as to reduce compute time\n",
    "wiki.head()"
   ]
  },
  {
   "cell_type": "markdown",
   "metadata": {
    "colab_type": "text",
    "id": "m8gsmRKsqEsN"
   },
   "source": [
    "To work with text data, we must first convert the documents into numerical features. Let's extract TF-IDF features for each article."
   ]
  },
  {
   "cell_type": "code",
   "execution_count": 3,
   "metadata": {
    "colab": {},
    "colab_type": "code",
    "id": "E5mxiLcJqEsO"
   },
   "outputs": [],
   "source": [
    "from sklearn.feature_extraction.text import TfidfVectorizer\n",
    "\n",
    "vectorizer = TfidfVectorizer(max_df=0.95)  # ignore words with very high doc frequency\n",
    "tf_idf = vectorizer.fit_transform(wiki['text'])\n",
    "words = vectorizer.get_feature_names()"
   ]
  },
  {
   "cell_type": "markdown",
   "metadata": {
    "colab_type": "text",
    "id": "UYyRTa0rqEsQ"
   },
   "source": [
    "Since most documents don't contain every word, many of the TF-IDF entries will be 0. Representing the TF-IDF matrix as a `numpy` matrix will require a lot of unnecessary storage to keep track of all those 0. SciPy provides the idea of a \"sparse matrix\" that only represents the non-zero entries of a matrix to save space. Externally, you treat it just like a numpy `matrix` but it takes up less storage."
   ]
  },
  {
   "cell_type": "code",
   "execution_count": 4,
   "metadata": {
    "colab": {},
    "colab_type": "code",
    "id": "pW25G1_LqEsR"
   },
   "outputs": [
    {
     "data": {
      "text/plain": [
       "(5907, 112801)"
      ]
     },
     "execution_count": 4,
     "metadata": {},
     "output_type": "execute_result"
    }
   ],
   "source": [
    "tf_idf = csr_matrix(tf_idf)\n",
    "\n",
    "tf_idf.shape"
   ]
  },
  {
   "cell_type": "markdown",
   "metadata": {
    "colab_type": "text",
    "id": "CEbH9bvPqEsT"
   },
   "source": [
    "The above matrix contains a TF-IDF score for each of the 5907 pages in the data set and each of the 112801 unique words."
   ]
  },
  {
   "cell_type": "markdown",
   "metadata": {
    "colab_type": "text",
    "id": "_-LgP2iRqEsU"
   },
   "source": [
    "# Normalize all vectors"
   ]
  },
  {
   "cell_type": "markdown",
   "metadata": {
    "colab_type": "text",
    "id": "cjycwCRAqEsU"
   },
   "source": [
    "The k-means algorithm does not directly work with cosine distance, so we take an alternative route to remove length information: we normalize all vectors to be unit length. It turns out that Euclidean distance closely mimics cosine distance when all vectors are unit length. In particular, the squared Euclidean distance between any two vectors of length one is directly proportional to their cosine distance.\n",
    "\n",
    "We can prove this as follows. Let $\\mathbf{x}$ and $\\mathbf{y}$ be normalized vectors, i.e. unit vectors, so that $\\|\\mathbf{x}\\|=\\|\\mathbf{y}\\|=1$. Write the squared Euclidean distance as the dot product of $(\\mathbf{x} - \\mathbf{y})$ to itself:\n",
    "\\begin{align*}\n",
    "\\|\\mathbf{x} - \\mathbf{y}\\|_2^2 &= (\\mathbf{x} - \\mathbf{y})^T(\\mathbf{x} - \\mathbf{y}) & \\text{(def of L2 norm)}\\\\\n",
    "                              &= (\\mathbf{x}^T \\mathbf{x}) - 2(\\mathbf{x}^T \\mathbf{y}) + (\\mathbf{y}^T \\mathbf{y}) & \\text{(FOIL expression)}\\\\\n",
    "                              &= \\|\\mathbf{x}\\|_2^2 - 2(\\mathbf{x}^T \\mathbf{y}) + \\|\\mathbf{y}\\|_2^2 & \\text{(def of L2 norm)}\\\\\n",
    "                              &= 2 - 2(\\mathbf{x}^T \\mathbf{y}) & \\text{($\\mathbf{x}$ and $\\mathbf{y}$ are length 1)}\\\\\n",
    "                              &= 2(1 - (\\mathbf{x}^T \\mathbf{y}))\\\\\n",
    "                              &= 2\\left(1 - \\frac{\\mathbf{x}^T \\mathbf{y}}{\\|\\mathbf{x}\\|_2\\|\\mathbf{y}\\|_2}\\right) & \\text{(Dividing by 1 doesn't change value)}\\\\\n",
    "                              &= 2\\left[\\text{cosine distance}\\right]\n",
    "\\end{align*}\n",
    "\n",
    "This tells us that two **unit vectors** that are close in Euclidean distance are also close in cosine distance. Thus, the k-means algorithm (which naturally uses Euclidean distances) on normalized vectors will produce the same results as clustering using cosine distance as a distance metric.\n",
    "\n",
    "\n",
    "---\n",
    "We import the [`normalize()` function](http://scikit-learn.org/stable/modules/generated/sklearn.preprocessing.normalize.html) from scikit-learn to normalize all vectors to unit length."
   ]
  },
  {
   "cell_type": "code",
   "execution_count": 5,
   "metadata": {
    "colab": {},
    "colab_type": "code",
    "id": "fQKNfIcCqEsV"
   },
   "outputs": [],
   "source": [
    "from sklearn.preprocessing import normalize\n",
    "tf_idf = normalize(tf_idf)"
   ]
  },
  {
   "cell_type": "markdown",
   "metadata": {
    "colab_type": "text",
    "id": "g7U_xrTwqEsX"
   },
   "source": [
    "# Implement k-means"
   ]
  },
  {
   "cell_type": "markdown",
   "metadata": {
    "colab_type": "text",
    "id": "uEfCjgiaqEsY"
   },
   "source": [
    "Let us implement the k-means algorithm. First, we choose an initial set of centroids. A common practice is to choose randomly from the data points.\n"
   ]
  },
  {
   "cell_type": "code",
   "execution_count": 6,
   "metadata": {
    "colab": {},
    "colab_type": "code",
    "id": "sKSBAVTNqEsZ"
   },
   "outputs": [],
   "source": [
    "def get_initial_centroids(data, k, seed=None):\n",
    "    \"\"\"\n",
    "    Randomly choose k data points as initial centroids\n",
    "    \"\"\"\n",
    "    if seed is not None:\n",
    "        np.random.seed(seed)\n",
    "        \n",
    "    n = data.shape[0] \n",
    "        \n",
    "    # Pick K indices from range [0, N).\n",
    "    rand_indices = np.random.randint(0, n, k)\n",
    "    \n",
    "    # Keep centroids as dense format, as many entries will be nonzero due to averaging.\n",
    "    # As long as at least one document in a cluster contains a word,\n",
    "    # it will carry a nonzero weight in the TF-IDF vector of the centroid.\n",
    "    centroids = data[rand_indices,:].toarray()\n",
    "    \n",
    "    return centroids"
   ]
  },
  {
   "cell_type": "markdown",
   "metadata": {
    "colab_type": "text",
    "id": "2v1FxFiXqEsb"
   },
   "source": [
    "### k-means Algorithm\n",
    "After initialization, the k-means algorithm iterates between the following two steps:\n",
    "1. Assign each data point to the closest centroid. $$z_i \\gets \\mathrm{argmin}_j \\|\\mathbf{\\mu}_j - \\mathbf{x}_i\\|^2$$\n",
    "2. Revise centroids as the mean of the assigned data points. $$\\mathbf{\\mu}_j \\gets \\frac{1}{n_j}\\sum_{i:z_i=j} \\mathbf{x}_i$$"
   ]
  },
  {
   "cell_type": "markdown",
   "metadata": {
    "colab_type": "text",
    "id": "ZV9NpZa5qEsc"
   },
   "source": [
    "In pseudocode, we iteratively do the following:\n",
    "```python\n",
    "cluster_assignment = assign_clusters(data, centroids)\n",
    "centroids = revise_centroids(data, k, cluster_assignment)\n",
    "```"
   ]
  },
  {
   "cell_type": "markdown",
   "metadata": {
    "colab_type": "text",
    "id": "ODoiN4ALqEsd"
   },
   "source": [
    "## Assigning clusters"
   ]
  },
  {
   "cell_type": "markdown",
   "metadata": {
    "colab_type": "text",
    "id": "yT4A-Uu0qEse"
   },
   "source": [
    "How do we implement Step 1 of the main k-means loop above? First we import `pairwise_distances` function from scikit-learn, which calculates Euclidean distances between rows of given arrays. See [this documentation](https://scikit-learn.org/stable/modules/generated/sklearn.metrics.pairwise.paired_distances.html) for more information.\n",
    "\n",
    "For the sake of demonstration, let's look at documents 100 through 102 as query documents and compute the distances between each of these documents and every other document in the corpus. In the k-means algorithm, we will have to compute pairwise distances between the set of centroids and the set of documents."
   ]
  },
  {
   "cell_type": "code",
   "execution_count": 7,
   "metadata": {
    "colab": {},
    "colab_type": "code",
    "id": "ETeFLowZqEsf"
   },
   "outputs": [
    {
     "name": "stdout",
     "output_type": "stream",
     "text": [
      "[[1.39996239 1.39958932]\n",
      " [1.40386156 1.39754968]\n",
      " [1.38421176 1.39682604]\n",
      " ...\n",
      " [1.40562888 1.39024794]\n",
      " [1.39673862 1.38306708]\n",
      " [1.40872806 1.40250208]]\n"
     ]
    }
   ],
   "source": [
    "from sklearn.metrics import pairwise_distances\n",
    "\n",
    "# Get the TF-IDF vectors for documents 100 through 102.\n",
    "queries = tf_idf[100:102,:]\n",
    "\n",
    "# Compute pairwise distances from every data point to each query vector.\n",
    "dist = pairwise_distances(tf_idf, queries, metric='euclidean')\n",
    "print(dist)"
   ]
  },
  {
   "cell_type": "markdown",
   "metadata": {
    "colab_type": "text",
    "id": "nHodIMqRqEsh"
   },
   "source": [
    "More formally, `dist[i,j]` is assigned the distance between the `i`th row of `X` (i.e., `X[i,:]`) and the `j`th row of `Y` (i.e., `Y[j,:]`)."
   ]
  },
  {
   "cell_type": "code",
   "execution_count": 8,
   "metadata": {
    "colab": {},
    "colab_type": "code",
    "id": "oteWmRE3qEsj"
   },
   "outputs": [],
   "source": [
    "c = tf_idf[0:3,:]\n",
    "distances = pairwise_distances(tf_idf, c, metric='euclidean')\n",
    "dist = distances[430,1]"
   ]
  },
  {
   "cell_type": "code",
   "execution_count": 12,
   "metadata": {
    "colab": {},
    "colab_type": "code",
    "id": "Yda0BuWfqEsv"
   },
   "outputs": [],
   "source": [
    "centroids = tf_idf[0:3,:]\n",
    "d = pairwise_distances(tf_idf, centroids, metric='euclidean')\n",
    "cluster_assignment = np.argmin(d, axis=1)"
   ]
  },
  {
   "cell_type": "code",
   "execution_count": 14,
   "metadata": {
    "colab": {},
    "colab_type": "code",
    "id": "FeXVNuXXqEsz"
   },
   "outputs": [],
   "source": [
    "def assign_clusters(data, centroids):\n",
    "    \"\"\"\n",
    "    Parameters:  \n",
    "      - data      - is an np.array of float values of length N.  \n",
    "      - centroids - is an np.array of float values of length k.\n",
    "\n",
    "    Returns  \n",
    "      -  A np.array of length N where the ith index represents which centroid \n",
    "         data[i] was assigned to. The assignments range between the values 0, ..., k-1.\n",
    "    \"\"\"\n",
    "    distances = pairwise_distances(data, centroids, metric='euclidean')\n",
    "    cluster_assignments = np.argmin(distances, axis=1)\n",
    "    return cluster_assignments"
   ]
  },
  {
   "cell_type": "markdown",
   "metadata": {
    "colab_type": "text",
    "id": "BYZc94XqqEs8"
   },
   "source": [
    "## Revising clusters"
   ]
  },
  {
   "cell_type": "markdown",
   "metadata": {
    "colab_type": "text",
    "id": "HIzsCK3wqEs9"
   },
   "source": [
    "Let's turn to Step 2 of the k-means algorithm, where we compute the new centroids given the cluster assignments. "
   ]
  },
  {
   "cell_type": "markdown",
   "metadata": {
    "colab_type": "text",
    "id": "-lsrrqXiqEs9"
   },
   "source": [
    "SciPy and NumPy arrays allow for filtering via Boolean masks. For instance, we filter all data points that are assigned to cluster 0 by writing\n",
    "```python\n",
    "data[cluster_assignment==0,:]\n",
    "```"
   ]
  },
  {
   "cell_type": "code",
   "execution_count": 24,
   "metadata": {
    "colab": {},
    "colab_type": "code",
    "id": "1VnTum_RqEtQ"
   },
   "outputs": [],
   "source": [
    "def revise_centroids(data, k, cluster_assignment):\n",
    "    \"\"\"\n",
    "    Parameters:  \n",
    "      - data               - is an np.array of float values of length N.\n",
    "      - k                  - number of centroids\n",
    "      - cluster_assignment - np.array of length N where the ith index represents which \n",
    "                             centroid data[i] was assigned to. The assignments range between the values 0, ..., k-1.\n",
    "\n",
    "    Returns  \n",
    "      -  A np.array of length k for the new centroids.\n",
    "    \"\"\"\n",
    "    new_centroids = []\n",
    "    for i in range(k):\n",
    "        # Select all data points that belong to cluster i. Fill in the blank (RHS only)\n",
    "        member_data_points = data[cluster_assignment == i]\n",
    "        # Compute the mean of the data points. Fill in the blank (RHS only)\n",
    "        centroid = member_data_points.mean(axis=0)\n",
    "        \n",
    "        # Convert numpy.matrix type to numpy.ndarray type\n",
    "        centroid = centroid.A1\n",
    "        new_centroids.append(centroid)\n",
    "        \n",
    "    new_centroids = np.array(new_centroids)\n",
    "    return new_centroids"
   ]
  },
  {
   "cell_type": "markdown",
   "metadata": {
    "colab_type": "text",
    "id": "iySadBTFqEtU"
   },
   "source": [
    "### Assessing convergence"
   ]
  },
  {
   "cell_type": "markdown",
   "metadata": {
    "colab_type": "text",
    "id": "26Op9TPuqEtV"
   },
   "source": [
    "How can we tell if the k-means algorithm is converging? We can look at the cluster assignments and see if they stabilize over time. In fact, we'll be running the algorithm until the cluster assignments stop changing at all. To be extra safe, and to assess the clustering performance, we'll be looking at an additional criteria: the sum of all squared distances between data points and centroids. This is defined as\n",
    "$$\n",
    "J(\\mathcal{Z},\\mu) = \\sum_{j=0}^{k-1} \\sum_{i=1:z_i = j}^n \\|\\mathbf{x}_i - \\mu_j\\|^2.\n",
    "$$\n",
    "The smaller the distances, the more homogeneous the clusters are. In other words, we'd like to have \"tight\" clusters."
   ]
  },
  {
   "cell_type": "code",
   "execution_count": 26,
   "metadata": {
    "colab": {},
    "colab_type": "code",
    "id": "xwD2YztbqEtV"
   },
   "outputs": [],
   "source": [
    "def compute_heterogeneity(data, k, centroids, cluster_assignment):\n",
    "    \"\"\"\n",
    "    Computes the heterogeneity metric of the data using the given centroids and cluster assignments.\n",
    "    \"\"\"\n",
    "    heterogeneity = 0.0\n",
    "    for i in range(k):\n",
    "        \n",
    "        # Select all data points that belong to cluster i. Fill in the blank (RHS only)\n",
    "        member_data_points = data[cluster_assignment==i,:]\n",
    "        \n",
    "        if member_data_points.shape[0] > 0: # check if i-th cluster is non-empty\n",
    "            # Compute distances from centroid to data point\n",
    "            distances = pairwise_distances(member_data_points, [centroids[i]], metric='euclidean')\n",
    "            squared_distances = distances**2\n",
    "            heterogeneity += np.sum(squared_distances)\n",
    "        \n",
    "    return heterogeneity"
   ]
  },
  {
   "cell_type": "markdown",
   "metadata": {
    "colab_type": "text",
    "id": "uOmGx-EHqEtX"
   },
   "source": [
    "Let's compute the cluster heterogeneity for the 2-cluster example we've been considering based on our current cluster assignments and centroids."
   ]
  },
  {
   "cell_type": "code",
   "execution_count": 27,
   "metadata": {
    "colab": {},
    "colab_type": "code",
    "id": "R5DkruonqEtX"
   },
   "outputs": [
    {
     "data": {
      "text/plain": [
       "7.25"
      ]
     },
     "execution_count": 27,
     "metadata": {},
     "output_type": "execute_result"
    }
   ],
   "source": [
    "compute_heterogeneity(data, 2, centroids, cluster_assignment)"
   ]
  },
  {
   "cell_type": "markdown",
   "metadata": {
    "colab_type": "text",
    "id": "EpHq8_fkqEtZ"
   },
   "source": [
    "### Combining into a single function"
   ]
  },
  {
   "cell_type": "markdown",
   "metadata": {
    "colab_type": "text",
    "id": "a0kAOad1qEtZ"
   },
   "source": [
    "Once the two k-means steps have been implemented, as well as our heterogeneity metric we wish to monitor, it is only a matter of putting these functions together to write a k-means algorithm that\n",
    "\n",
    "* Repeatedly performs Steps 1 and 2\n",
    "* Tracks convergence metrics\n",
    "* Stops if either no assignment changed or we reach a certain number of iterations."
   ]
  },
  {
   "cell_type": "code",
   "execution_count": 28,
   "metadata": {
    "colab": {},
    "colab_type": "code",
    "id": "QveqoxjJqEta"
   },
   "outputs": [],
   "source": [
    "def kmeans(data, k, initial_centroids, maxiter, record_heterogeneity=None, verbose=False):\n",
    "    \"\"\"\n",
    "    This function runs k-means on given data and initial set of centroids.\n",
    "    \n",
    "    Parameters:  \n",
    "      - data                 - is an np.array of float values of length N.\n",
    "      - k                    - number of centroids\n",
    "      - initial_centroids    - is an np.array of float values of length k.\n",
    "      - maxiter              - maximum number of iterations to run the algorithm\n",
    "      - record_heterogeneity - if provided an empty list, it will compute the heterogeneity \n",
    "                               at each iteration and append it to the list. \n",
    "                               Defaults to None and won't record heterogeneity.\n",
    "      - verbose              - set to True to display progress. Defaults to False and won't \n",
    "                               display progress.\n",
    "\n",
    "    Returns  \n",
    "      - centroids - A np.array of length k for the centroids upon termination of the algorithm.\n",
    "      - cluster_assignment - A np.array of length N where the ith index represents which \n",
    "                             centroid data[i] was assigned to. The assignments range between the \n",
    "                             values 0, ..., k-1 upon termination of the algorithm.\n",
    "    \"\"\"\n",
    "    centroids = initial_centroids[:]\n",
    "    prev_cluster_assignment = None\n",
    "    \n",
    "    for itr in range(maxiter):  \n",
    "        # Print itereation number\n",
    "        if verbose:\n",
    "            print(itr)\n",
    "        \n",
    "        # 1. Make cluster assignments using nearest centroids\n",
    "        cluster_assignment = assign_clusters(data, initial_centroids)\n",
    "            \n",
    "        # 2. Compute a new centroid for each of the k clusters, averaging all data points assigned to that cluster.\n",
    "        centroids = revise_centroids(data, k, cluster_assignment)\n",
    "            \n",
    "        # Check for convergence: if none of the assignments changed, stop\n",
    "        if prev_cluster_assignment is not None and \\\n",
    "          (prev_cluster_assignment == cluster_assignment).all():\n",
    "            break\n",
    "        \n",
    "        # Print number of new assignments \n",
    "        if prev_cluster_assignment is not None:\n",
    "            num_changed = sum(abs(prev_cluster_assignment - cluster_assignment))\n",
    "            if verbose:\n",
    "                print(f'    {num_changed:5d} elements changed their cluster assignment.')  \n",
    "        \n",
    "        # Record heterogeneity convergence metric\n",
    "        if record_heterogeneity is not None:\n",
    "            score = compute_heterogeneity(data, k, centroids, cluster_assignment)\n",
    "            record_heterogeneity.append(score)\n",
    "        \n",
    "        prev_cluster_assignment = cluster_assignment[:]\n",
    "        \n",
    "    return centroids, cluster_assignment"
   ]
  },
  {
   "cell_type": "markdown",
   "metadata": {
    "colab_type": "text",
    "id": "bDWls7MoqEtc"
   },
   "source": [
    "## Plotting convergence metric"
   ]
  },
  {
   "cell_type": "markdown",
   "metadata": {
    "colab_type": "text",
    "id": "uyZlI6lnqEtc"
   },
   "source": [
    "We can use the above function to plot the convergence metric across iterations."
   ]
  },
  {
   "cell_type": "code",
   "execution_count": 29,
   "metadata": {
    "colab": {},
    "colab_type": "code",
    "id": "6WiZ0uJPqEtd"
   },
   "outputs": [],
   "source": [
    "def plot_heterogeneity(heterogeneity, k):\n",
    "    \"\"\"\n",
    "    Plots how the heterogeneity changes as the number of iterations increases.\n",
    "    \"\"\"\n",
    "    plt.figure(figsize=(7,4))\n",
    "    plt.plot(heterogeneity, linewidth=4)\n",
    "    plt.xlabel('# Iterations')\n",
    "    plt.ylabel('Heterogeneity')\n",
    "    plt.title(f'Heterogeneity of clustering over time, K={k}')\n",
    "    plt.rcParams.update({'font.size': 16})\n",
    "    plt.tight_layout()"
   ]
  },
  {
   "cell_type": "markdown",
   "metadata": {
    "colab_type": "text",
    "id": "OIqZMfCLqEte"
   },
   "source": [
    "Let's consider running k-means with K=3 clusters for a maximum of 400 iterations, recording cluster heterogeneity at every step.  Then, let's plot the heterogeneity over iterations using the plotting function above."
   ]
  },
  {
   "cell_type": "code",
   "execution_count": 30,
   "metadata": {
    "colab": {},
    "colab_type": "code",
    "id": "WMu3ItP7qEtf"
   },
   "outputs": [
    {
     "name": "stdout",
     "output_type": "stream",
     "text": [
      "0\n",
      "1\n"
     ]
    },
    {
     "data": {
      "image/png": "[encoded data removed]",
      "text/plain": [
       "<Figure size 504x288 with 1 Axes>"
      ]
     },
     "metadata": {
      "needs_background": "light"
     },
     "output_type": "display_data"
    }
   ],
   "source": [
    "k = 3\n",
    "heterogeneity = []\n",
    "initial_centroids = get_initial_centroids(tf_idf, k, seed=0)\n",
    "centroids, cluster_assignment = kmeans(tf_idf, k, initial_centroids, maxiter=400,\n",
    "                                       record_heterogeneity=heterogeneity, verbose=True)\n",
    "plot_heterogeneity(heterogeneity, k)\n"
   ]
  },
  {
   "cell_type": "code",
   "execution_count": 31,
   "metadata": {
    "colab": {},
    "colab_type": "code",
    "id": "18SGZe9FqEti"
   },
   "outputs": [
    {
     "data": {
      "text/plain": [
       "array([3916,  831, 1160], dtype=int64)"
      ]
     },
     "execution_count": 31,
     "metadata": {},
     "output_type": "execute_result"
    }
   ],
   "source": [
    "np.bincount(cluster_assignment)"
   ]
  },
  {
   "cell_type": "markdown",
   "metadata": {
    "colab_type": "text",
    "id": "tAmuWS8wqEtm"
   },
   "source": [
    "# Beware of Local Minima"
   ]
  },
  {
   "cell_type": "markdown",
   "metadata": {
    "colab_type": "text",
    "id": "CC6Zs5_-qEtn"
   },
   "source": [
    "One weakness of k-means is that it tends to get stuck in a local minimum based on its starting position. To see this, let us run k-means multiple times, with different initial centroids created using different random seeds.\n"
   ]
  },
  {
   "cell_type": "code",
   "execution_count": 32,
   "metadata": {
    "colab": {},
    "colab_type": "code",
    "id": "mprx1wK6qEtn"
   },
   "outputs": [
    {
     "name": "stdout",
     "output_type": "stream",
     "text": [
      "seed=000000, heterogeneity=5637.35477\n",
      "seed=020000, heterogeneity=5628.17552\n",
      "seed=040000, heterogeneity=5656.61492\n",
      "seed=060000, heterogeneity=5626.79996\n",
      "seed=080000, heterogeneity=5623.32338\n",
      "seed=100000, heterogeneity=5615.73065\n",
      "seed=120000, heterogeneity=5641.14122\n",
      "Wall time: 1.98 s\n"
     ]
    }
   ],
   "source": [
    "%%time\n",
    "\n",
    "k = 10\n",
    "heterogeneity = {}\n",
    "for seed in [0, 20000, 40000, 60000, 80000, 100000, 120000]:\n",
    "    initial_centroids = get_initial_centroids(tf_idf, k, seed)\n",
    "    centroids, cluster_assignment = kmeans(tf_idf, k, initial_centroids, maxiter=400,\n",
    "                                           record_heterogeneity=None, verbose=False)\n",
    "    # To save time, compute heterogeneity only once in the end\n",
    "    heterogeneity[seed] = compute_heterogeneity(tf_idf, k, centroids, cluster_assignment)\n",
    "    print(f'seed={seed:06d}, heterogeneity={heterogeneity[seed]:.5f}')\n",
    "    \n",
    "    sys.stdout.flush()"
   ]
  },
  {
   "cell_type": "markdown",
   "metadata": {
    "colab_type": "text",
    "id": "gB-6CdxkqEtp"
   },
   "source": [
    "Notice the variation in heterogeneity for different initializations. This indicates that k-means runs may have not converged or they got stuck at a local minimum."
   ]
  },
  {
   "cell_type": "markdown",
   "metadata": {
    "colab_type": "text",
    "id": "cEEg_0RFqEtp"
   },
   "source": [
    "One effective way to counter this tendency is to use **k-means++** to provide a smart initialization. This method tries to spread out the initial set of centroids so that they are not too close together. It is known to improve the quality of local optima and lower average runtime, but is a bit slower to start since it needs to do more computation to place centroids."
   ]
  },
  {
   "cell_type": "code",
   "execution_count": 33,
   "metadata": {
    "colab": {},
    "colab_type": "code",
    "id": "yWaf2ETPqEtq"
   },
   "outputs": [],
   "source": [
    "def smart_initialize(data, k, seed=None):\n",
    "    \"\"\"\n",
    "    Use k-means++ to initialize a good set of centroids\n",
    "    \"\"\"\n",
    "    if seed is not None:\n",
    "        np.random.seed(seed)\n",
    "        \n",
    "    centroids = np.zeros((k, data.shape[1]))\n",
    "    \n",
    "    # Randomly choose the first centroid.\n",
    "    # Since we have no prior knowledge, choose uniformly at random\n",
    "    idx = np.random.randint(data.shape[0])\n",
    "    centroids[0] = data[idx,:].toarray()\n",
    "    \n",
    "    # Compute distances from the first centroid chosen to all the other data points\n",
    "    distances = pairwise_distances(data, centroids[0:1], metric='euclidean').flatten()\n",
    "    \n",
    "    for i in range(1, k):\n",
    "        # Choose the next centroid randomly, so that the probability for each data point to be chosen\n",
    "        # is directly proportional to its squared distance from the nearest centroid.\n",
    "        # Roughtly speaking, a new centroid should be as far as from ohter centroids as possible.\n",
    "        idx = np.random.choice(data.shape[0], 1, p=distances/sum(distances))\n",
    "        centroids[i] = data[idx,:].toarray()\n",
    "        \n",
    "        # Now compute distances from the centroids to all data points\n",
    "        distances = np.min(pairwise_distances(data, centroids[0:i+1], metric='euclidean'),axis=1)\n",
    "    \n",
    "    return centroids"
   ]
  },
  {
   "cell_type": "markdown",
   "metadata": {
    "colab_type": "text",
    "id": "JJFcP_b6qEts"
   },
   "source": [
    "Let's now rerun k-means with 10 clusters using the same set of seeds, but always using k-means++ to initialize the algorithm.\n",
    "\n",
    "This may take several minutes to run."
   ]
  },
  {
   "cell_type": "code",
   "execution_count": 34,
   "metadata": {
    "colab": {},
    "colab_type": "code",
    "id": "tBK4WvjGqEts"
   },
   "outputs": [
    {
     "name": "stdout",
     "output_type": "stream",
     "text": [
      "seed=000000, heterogeneity=5657.01878\n",
      "seed=020000, heterogeneity=5638.05710\n",
      "seed=040000, heterogeneity=5630.05621\n",
      "seed=060000, heterogeneity=5648.38517\n",
      "seed=080000, heterogeneity=5628.74359\n",
      "seed=100000, heterogeneity=5633.01894\n",
      "seed=120000, heterogeneity=5635.11785\n",
      "Wall time: 3.57 s\n"
     ]
    }
   ],
   "source": [
    "%%time\n",
    "\n",
    "k = 10\n",
    "heterogeneity_smart = {}\n",
    "for seed in [0, 20000, 40000, 60000, 80000, 100000, 120000]:\n",
    "    initial_centroids = smart_initialize(tf_idf, k, seed)\n",
    "    centroids, cluster_assignment = kmeans(tf_idf, k, initial_centroids, maxiter=400,\n",
    "                                           record_heterogeneity=None, verbose=False)\n",
    "    \n",
    "    heterogeneity_smart[seed] = compute_heterogeneity(tf_idf, k, centroids, cluster_assignment)\n",
    "    print(f'seed={seed:06d}, heterogeneity={heterogeneity_smart[seed]:.5f}')\n",
    "\n",
    "    sys.stdout.flush()"
   ]
  },
  {
   "cell_type": "markdown",
   "metadata": {
    "colab_type": "text",
    "id": "8WSvVWorqEtu"
   },
   "source": [
    "Let's compare the set of cluster heterogeneities we got from our 7 restarts of k-means using random initialization compared to the 7 restarts of k-means using k-means++ as a smart initialization.\n",
    "\n",
    "The following code produces a [box plot](http://matplotlib.org/api/pyplot_api.html) for each of these methods, indicating the spread of values produced by each method."
   ]
  },
  {
   "cell_type": "code",
   "execution_count": 35,
   "metadata": {
    "colab": {},
    "colab_type": "code",
    "id": "cgKnKieXqEtu"
   },
   "outputs": [
    {
     "data": {
      "image/png": "[encoded data removed]",
      "text/plain": [
       "<Figure size 720x360 with 1 Axes>"
      ]
     },
     "metadata": {
      "needs_background": "light"
     },
     "output_type": "display_data"
    }
   ],
   "source": [
    "plt.figure(figsize=(10,5))\n",
    "plt.boxplot([list(heterogeneity.values()), list(heterogeneity_smart.values())], vert=False)\n",
    "plt.yticks([1, 2], ['k-means', 'k-means++'])\n",
    "plt.rcParams.update({'font.size': 16})\n",
    "plt.xlabel('Heterogeneity')\n",
    "plt.tight_layout()"
   ]
  },
  {
   "cell_type": "markdown",
   "metadata": {
    "colab_type": "text",
    "id": "NUF2otRSqEtx"
   },
   "source": [
    "A few things to notice from the box plot:\n",
    "* Random initialization results in a worse clustering than k-means++ on average.\n",
    "* The best result of k-means++ is better than the best result of random initialization."
   ]
  },
  {
   "cell_type": "code",
   "execution_count": 38,
   "metadata": {
    "colab": {},
    "colab_type": "code",
    "id": "ha9ga5pnqEty"
   },
   "outputs": [],
   "source": [
    "def kmeans_multiple_runs(data, k, maxiter, seeds, verbose=False):\n",
    "    \"\"\"\n",
    "    Runs kmeans multiple times \n",
    "    \n",
    "    Parameters:  \n",
    "      - data    - is an np.array of float values of length N.\n",
    "      - k       - number of centroids\n",
    "      - maxiter - maximum number of iterations to run the algorithm\n",
    "      - seeds   - Either number of seeds to try (generated randomly) or a list of seed values\n",
    "      - verbose - set to True to display progress. Defaults to False and won't display progress.\n",
    "    \n",
    "    Returns  \n",
    "      - final_centroids          - A np.array of length k for the centroids upon \n",
    "                                   termination of the algorithm.\n",
    "      - final_cluster_assignment - A np.array of length N where the ith index represents which \n",
    "                                   centroid data[i] was assigned to. The assignments range between \n",
    "                                   the values 0, ..., k-1 upon termination of the algorithm.\n",
    "    \"\"\"    \n",
    "    min_heterogeneity_achieved = float('inf')\n",
    "    final_centroids = None\n",
    "    final_cluster_assignment = None\n",
    "    if type(seeds) == int:\n",
    "        seeds = np.random.randint(low=0, high=10000, size=seeds)\n",
    "    \n",
    "    num_runs = len(seeds)\n",
    "    \n",
    "    for seed in seeds:\n",
    "        \n",
    "        # Use k-means++ initialization with the provided seed: Fill in the blank\n",
    "        # Set record_heterogeneity=None because we will compute that once at the end.\n",
    "        initial_centroids = smart_initialize(data, k, seed)\n",
    "        \n",
    "        # Run k-means: Fill in the blank \n",
    "        centroids, cluster_assignment = kmeans(data, k, initial_centroids, maxiter, record_heterogeneity=None, verbose=False)\n",
    "        \n",
    "        # To save time, compute heterogeneity only once in the end\n",
    "        # Fill in the blank on the right\n",
    "        seed_heterogeneity = compute_heterogeneity(data, k, centroids, cluster_assignment)\n",
    "        \n",
    "        if verbose:\n",
    "            print(f'seed={seed:06d}, heterogeneity={seed_heterogeneity:.5f}')\n",
    "            sys.stdout.flush()\n",
    "        \n",
    "        # if current measurement of heterogeneity is lower than previously seen,\n",
    "        # update the minimum record of heterogeneity.\n",
    "        if seed_heterogeneity < min_heterogeneity_achieved:\n",
    "            min_heterogeneity_achieved = seed_heterogeneity\n",
    "            final_centroids = centroids\n",
    "            final_cluster_assignment = cluster_assignment\n",
    "    \n",
    "    # Return the centroids and cluster assignments that minimize heterogeneity.\n",
    "    return final_centroids, final_cluster_assignment"
   ]
  },
  {
   "cell_type": "markdown",
   "metadata": {
    "colab_type": "text",
    "id": "X1lgVAVLqEtz"
   },
   "source": [
    "## How to choose K"
   ]
  },
  {
   "cell_type": "markdown",
   "metadata": {
    "colab_type": "text",
    "id": "FDL8IXz4qEt0"
   },
   "source": [
    "Since we are measuring the tightness of the clusters, a higher value of K reduces the possible heterogeneity metric by definition.  For example, if we have N data points and set K=N clusters, then we could have 0 cluster heterogeneity by setting the N centroids equal to the values of the N data points. (Note: Not all runs for larger K will result in lower heterogeneity than a single run with smaller K due to local optima.)  Let's explore this general trend for ourselves by performing the following analysis."
   ]
  },
  {
   "cell_type": "markdown",
   "metadata": {
    "colab_type": "text",
    "id": "l337zL21qEt0"
   },
   "source": [
    "Use the `kmeans_multiple_runs` function to run k-means with five different values of K.  For each K, use k-means++ and multiple runs to pick the best solution.  In what follows, we consider K=2,10,25,50,100 and 7 restarts for each setting.\n",
    "\n"
   ]
  },
  {
   "cell_type": "code",
   "execution_count": 39,
   "metadata": {
    "colab": {},
    "colab_type": "code",
    "id": "fNha4kkvqEt1"
   },
   "outputs": [
    {
     "name": "stdout",
     "output_type": "stream",
     "text": [
      "Running k = 2\n",
      "seed=020000, heterogeneity=5707.49794\n",
      "seed=040000, heterogeneity=5704.51207\n",
      "seed=080000, heterogeneity=5685.53624\n",
      "Running k = 10\n",
      "seed=020000, heterogeneity=5638.05710\n",
      "seed=040000, heterogeneity=5630.05621\n",
      "seed=080000, heterogeneity=5628.74359\n",
      "Running k = 25\n",
      "seed=020000, heterogeneity=5567.14966\n",
      "seed=040000, heterogeneity=5559.25484\n",
      "seed=080000, heterogeneity=5568.99667\n",
      "Running k = 50\n",
      "seed=020000, heterogeneity=5496.77086\n",
      "seed=040000, heterogeneity=5514.12112\n",
      "seed=080000, heterogeneity=5508.93097\n",
      "Running k = 100\n",
      "seed=020000, heterogeneity=5399.81193\n",
      "seed=040000, heterogeneity=5416.88642\n",
      "seed=080000, heterogeneity=5399.67106\n",
      "Wall time: 54.6 s\n"
     ]
    },
    {
     "data": {
      "image/png": "[encoded data removed]",
      "text/plain": [
       "<Figure size 504x288 with 1 Axes>"
      ]
     },
     "metadata": {
      "needs_background": "light"
     },
     "output_type": "display_data"
    }
   ],
   "source": [
    "%%time\n",
    "\n",
    "def plot_k_vs_heterogeneity(k_values, heterogeneity_values):\n",
    "    \"\"\"\n",
    "    Given list of k-values and their heterogeneities, will make a plot\n",
    "    showing how heterogeneity varies with k.\n",
    "    \"\"\"\n",
    "    plt.figure(figsize=(7,4))\n",
    "    plt.plot(k_values, heterogeneity_values, linewidth=4)\n",
    "    plt.xlabel('K')\n",
    "    plt.ylabel('Heterogeneity')\n",
    "    plt.title('K vs. Heterogeneity')\n",
    "    plt.rcParams.update({'font.size': 16})\n",
    "    plt.tight_layout()\n",
    "\n",
    "all_centroids = {}\n",
    "all_cluster_assignment = {}\n",
    "heterogeneity_values = []\n",
    "seeds = [20000, 40000, 80000]\n",
    "k_list = [2, 10, 25, 50, 100]\n",
    "\n",
    "for k in k_list:\n",
    "    print(f'Running k = {k}')\n",
    "    heterogeneity = []\n",
    "    all_centroids[k], all_cluster_assignment[k] = kmeans_multiple_runs(tf_idf, k, maxiter=400,\n",
    "                                                                       seeds=seeds, verbose=True)\n",
    "    score = compute_heterogeneity(tf_idf, k, all_centroids[k], all_cluster_assignment[k])\n",
    "    heterogeneity_values.append(score)\n",
    "\n",
    "plot_k_vs_heterogeneity(k_list, heterogeneity_values)"
   ]
  },
  {
   "cell_type": "markdown",
   "metadata": {
    "colab_type": "text",
    "id": "4sXShf7ZqEt3"
   },
   "source": [
    "## Visualize clusters of documents"
   ]
  },
  {
   "cell_type": "markdown",
   "metadata": {
    "colab_type": "text",
    "id": "3ah5tJcZqEt3"
   },
   "source": [
    "Let's start visualizing some clustering results to see if we think the clustering makes sense.  We can use such visualizations to help us assess whether we have set K too large or too small for a given application.  Following the theme of this course, we will judge whether the clustering makes sense in the context of document analysis.\n",
    "\n",
    "What are we looking for in a good clustering of documents?\n",
    "* Documents in the same cluster should be similar.\n",
    "* Documents from different clusters should be less similar.\n",
    "\n",
    "So a bad clustering exhibits either of two symptoms:\n",
    "* Documents in a cluster have mixed content.\n",
    "* Documents with similar content are divided up and put into different clusters.\n",
    "\n",
    "To help visualize the clustering, we do the following:\n",
    "* Fetch nearest neighbors of each centroid from the set of documents assigned to that cluster. We will consider these documents as being representative of the cluster.\n",
    "* Print titles and first sentences of those nearest neighbors.\n",
    "* Print top 5 words that have highest tf-idf weights in each centroid."
   ]
  },
  {
   "cell_type": "code",
   "execution_count": 40,
   "metadata": {
    "colab": {},
    "colab_type": "code",
    "id": "NOYSYztKqEt3"
   },
   "outputs": [],
   "source": [
    "def visualize_document_clusters(wiki, tf_idf, centroids, cluster_assignment, k, words, \n",
    "                                display_docs=5):\n",
    "    \"\"\"\n",
    "    Given a set of clustered documents, prints information about the centroids including\n",
    "       - The title and starting sentence of the closest 5 points to each centroid\n",
    "       - The five words that are contained in the clusters documents with the highest TF-IDF.\n",
    "    \n",
    "    Parameters:  \n",
    "      - wiki: original dataframe\n",
    "      - tf_idf: data matrix containing TF-IDF vectors for each document\n",
    "      - centroids: A np.array of length k that contains the centroids for the clustering\n",
    "      - cluster_assignments: A np.array of length N that has the cluster assignments for each row\n",
    "      - k: What value of k is used\n",
    "      - words: List of words in the corpus (should match tf_idf)\n",
    "      - display_odcs: How many documents to show for each cluster (default 5)\n",
    "    \"\"\"\n",
    "    print('=' * 90)\n",
    "\n",
    "    # Visualize each cluster c\n",
    "    for c in range(k):\n",
    "        # Cluster heading\n",
    "        print(f'Cluster {c}  ({(cluster_assignment == c).sum()} docs)'),\n",
    "        # Print top 5 words with largest TF-IDF weights in the cluster\n",
    "        idx = centroids[c].argsort()[::-1]\n",
    "        for i in range(5): # Print each word along with the TF-IDF weight\n",
    "            print(f'{words[idx[i]]}:{centroids[c,idx[i]]:.3f}', end=' '),\n",
    "        print()\n",
    "        \n",
    "        if display_docs > 0:\n",
    "            print()\n",
    "            # Compute distances from the centroid to all data points in the cluster,\n",
    "            # and compute nearest neighbors of the centroids within the cluster.\n",
    "            distances = pairwise_distances(tf_idf, centroids[c].reshape(1, -1), metric='euclidean').flatten()\n",
    "            distances[cluster_assignment!=c] = float('inf') # remove non-members from consideration\n",
    "            nearest_neighbors = distances.argsort()\n",
    "            # For the nearest neighbors, print the title as well as first 180 characters of text.\n",
    "            # Wrap the text at 80-character mark.\n",
    "            for i in range(display_docs):\n",
    "                text = ' '.join(wiki.iloc[nearest_neighbors[i]]['text'].split(None, 25)[0:25])\n",
    "                print(f'* {wiki.iloc[nearest_neighbors[i]][\"name\"]:50s} {distances[nearest_neighbors[i]]:.5f}')\n",
    "                print(f'  {text[:90]}')\n",
    "                if len(text) > 90:\n",
    "                    print(f'  {text[90:180]}')\n",
    "                print()\n",
    "        print('=' * 90)"
   ]
  },
  {
   "cell_type": "markdown",
   "metadata": {
    "colab_type": "text",
    "id": "5Db4HxJaqEt5"
   },
   "source": [
    "Let us first look at the 2 cluster case (K=2)."
   ]
  },
  {
   "cell_type": "code",
   "execution_count": 41,
   "metadata": {
    "colab": {},
    "colab_type": "code",
    "id": "oI9VSXJxqEt5"
   },
   "outputs": [
    {
     "name": "stdout",
     "output_type": "stream",
     "text": [
      "==========================================================================================\n",
      "Cluster 0  (2576 docs)\n",
      "she:0.071 her:0.051 for:0.038 was:0.034 as:0.033 \n",
      "\n",
      "* Natashia Williams                                  0.93245\n",
      "  natashia williamsblach born august 2 1978 is an american actress and former wonderbra camp\n",
      "  aign model who is perhaps best known for her role as shane\n",
      "\n",
      "* Bhama Srinivasan                                   0.94091\n",
      "  bhama srinivasan april 22 1935 is a mathematician known for her work in the representation\n",
      "   theory of finite groups her contributions were honored with the\n",
      "\n",
      "* Bette McLaurin                                     0.94135\n",
      "  bette mclaurin born c1929 is an africanamerican singer best known for her jazzinfluenced b\n",
      "  allad and rb performances in the 1950s two of her recordings i\n",
      "\n",
      "* Delores Brumfield                                  0.94150\n",
      "  delores brumfield white born may 26 1932 is a former utility infielderoutfielder who playe\n",
      "  d from 1947 through 1953 in the allamerican girls professional baseball league\n",
      "\n",
      "* Anne Harris (musician)                             0.94196\n",
      "  anne harris is a singer songwriter violinist recording artist and actor based in chicago i\n",
      "  llinois she has independently produced and released four studio albums on\n",
      "\n",
      "==========================================================================================\n",
      "Cluster 1  (3331 docs)\n",
      "he:0.085 was:0.044 his:0.043 for:0.039 as:0.034 \n",
      "\n",
      "* Billy Bingham                                      0.94607\n",
      "  william laurence billy bingham mbe born 5 august 1931 is a former international footballer\n",
      "   and football manager who now works as a scout for english\n",
      "\n",
      "* Nicky Banger                                       0.94670\n",
      "  nicholas lee banger born 25 february 1971 is a retired english professional footballer he \n",
      "  is currently head of commercial operations with woking fcbanger was born\n",
      "\n",
      "* Wally Whitehurst                                   0.94812\n",
      "  walter richard whitehurst born april 11 1964 in shreveport louisiana is a former righthand\n",
      "  ed pitcher in major league baseball who played from 1989 to 1996\n",
      "\n",
      "* Steve Bruce                                        0.94948\n",
      "  stephen roger steve bruce born 31 december 1960 is an english football manager and former \n",
      "  player who is currently the manager at hull city born\n",
      "\n",
      "* Mel Charles                                        0.94999\n",
      "  melvyn mel charles born 14 may 1935 as melfyn charles is a welsh former international foot\n",
      "  baller he is the brother of john charles a legendary\n",
      "\n",
      "==========================================================================================\n"
     ]
    }
   ],
   "source": [
    "k = 2\n",
    "visualize_document_clusters(wiki, tf_idf, all_centroids[k], all_cluster_assignment[k], k, words)"
   ]
  },
  {
   "cell_type": "markdown",
   "metadata": {
    "colab_type": "text",
    "id": "ipEHA_0tqEt7"
   },
   "source": [
    "Both clusters have mixed content, although clearly cluster 0 are all women and cluster 1 are all men:\n",
    "\n",
    "It would be better if we sub-divided into more categories. So let us use more clusters. How about `K=10`?"
   ]
  },
  {
   "cell_type": "code",
   "execution_count": 42,
   "metadata": {
    "colab": {},
    "colab_type": "code",
    "id": "MhpIgIF_qEt8",
    "scrolled": true
   },
   "outputs": [
    {
     "name": "stdout",
     "output_type": "stream",
     "text": [
      "==========================================================================================\n",
      "Cluster 0  (1240 docs)\n",
      "she:0.113 her:0.090 for:0.040 was:0.036 as:0.032 \n",
      "\n",
      "* Bhama Srinivasan                                   0.91625\n",
      "  bhama srinivasan april 22 1935 is a mathematician known for her work in the representation\n",
      "   theory of finite groups her contributions were honored with the\n",
      "\n",
      "* Delores Brumfield                                  0.91828\n",
      "  delores brumfield white born may 26 1932 is a former utility infielderoutfielder who playe\n",
      "  d from 1947 through 1953 in the allamerican girls professional baseball league\n",
      "\n",
      "* Bette McLaurin                                     0.92113\n",
      "  bette mclaurin born c1929 is an africanamerican singer best known for her jazzinfluenced b\n",
      "  allad and rb performances in the 1950s two of her recordings i\n",
      "\n",
      "* Kate Walsh (singer)                                0.92510\n",
      "  kate walsh born february 20 1983 is an english singer from burnhamoncrouch essex a graduat\n",
      "  e of the brighton institute of modern music her first album\n",
      "\n",
      "* Gila Golan                                         0.92615\n",
      "  gila golan hebrew born 1940 is a polishborn israeli former fashion model and actressgolan \n",
      "  was born in krakw poland around 1940 her exact birthday is\n",
      "\n",
      "==========================================================================================\n",
      "Cluster 1  (812 docs)\n",
      "he:0.083 his:0.046 was:0.042 for:0.042 coach:0.040 \n",
      "\n",
      "* Mike Houston (American football)                   0.92862\n",
      "  mike houston born c 1971 is an american college football coach currently serving as head c\n",
      "  oach of the citadel bulldogs football team he was named\n",
      "\n",
      "* Tyrone Wheatley                                    0.93469\n",
      "  tyrone anthony wheatley born january 19 1972 is the running backs coach of michigan and a \n",
      "  former professional american football player who played 10 seasons\n",
      "\n",
      "* Wally Whitehurst                                   0.93534\n",
      "  walter richard whitehurst born april 11 1964 in shreveport louisiana is a former righthand\n",
      "  ed pitcher in major league baseball who played from 1989 to 1996\n",
      "\n",
      "* Radojko Avramovi%C4%87                             0.93546\n",
      "  radojko raddy avramovi serbian cyrillic born 29 november 1949 is a serbian football coach \n",
      "  who played for yugoslavia as a goalkeeper he is currently coach\n",
      "\n",
      "* Sixto Lezcano                                      0.93768\n",
      "  sixto joaquin lezcano curras born november 28 1953 in arecibo puerto rico is a retired bas\n",
      "  eball player who played for 12 seasons as an outfielder\n",
      "\n",
      "==========================================================================================\n",
      "Cluster 2  (157 docs)\n",
      "he:0.057 university:0.042 director:0.042 for:0.035 as:0.034 \n",
      "\n",
      "* George Yip                                         0.94135\n",
      "  george yip is a research specialist in global strategy and marketing and professor of mana\n",
      "  gement and codirector centre on china innovation at china europe international\n",
      "\n",
      "* Vittorio Corbo                                     0.94556\n",
      "  vittorio corbo lioi born 22 march 1943 is a former governor of the central bank of chile w\n",
      "  ho held the post since may 2003 until\n",
      "\n",
      "* Tim Jenkinson                                      0.94629\n",
      "  tim jenkinson is professor of finance at the sad business school university of oxford his \n",
      "  research is on initial public offerings in particular the analysis\n",
      "\n",
      "* Gerald J. Lynch                                    0.95131\n",
      "  jerry lynch is the interim dean of the krannert school of management and professor of econ\n",
      "  omics at purdue university lynch earned his bachelor of arts\n",
      "\n",
      "* David Gompert                                      0.95305\n",
      "  david charles gompert born october 6 1945 officially joined the office of the director of \n",
      "  national intelligence on november 10 2009 as the principal deputy\n",
      "\n",
      "==========================================================================================\n",
      "Cluster 3  (868 docs)\n",
      "he:0.077 his:0.050 was:0.048 for:0.045 league:0.038 \n",
      "\n",
      "* Tony Smith (footballer, born 1957)                 0.93386\n",
      "  anthony tony smith born 20 february 1957 is a former footballer who played as a central de\n",
      "  fender in the football league in the 1970s and\n",
      "\n",
      "* Steve Bruce                                        0.93631\n",
      "  stephen roger steve bruce born 31 december 1960 is an english football manager and former \n",
      "  player who is currently the manager at hull city born\n",
      "\n",
      "* Mark West (footballer)                             0.93846\n",
      "  mark west born 3 april 1973 is a former australian rules footballer who played with the we\n",
      "  stern bulldogs in the australian football league afl during\n",
      "\n",
      "* Mel Charles                                        0.93870\n",
      "  melvyn mel charles born 14 may 1935 as melfyn charles is a welsh former international foot\n",
      "  baller he is the brother of john charles a legendary\n",
      "\n",
      "* Brad Fisher                                        0.93906\n",
      "  bradley fisher born 9 april 1984 is an australian rules footballer in the australian footb\n",
      "  all leaguefisher was recruited in the 2002 afl draft from east\n",
      "\n",
      "==========================================================================================\n",
      "Cluster 4  (886 docs)\n",
      "he:0.076 his:0.052 music:0.049 with:0.036 for:0.035 \n",
      "\n",
      "* Wilson McLean                                      0.93853\n",
      "  wilson mclean born 1937 is a scottish illustrator and artist he has illustrated primarily \n",
      "  in the field of advertising but has also provided cover art\n",
      "\n",
      "* David Oei                                          0.94159\n",
      "  david oei chinese name pinyin hung jln surname pronounced wee is hong kongborn american cl\n",
      "  assical pianist b 1950 in hong kongoei was born in hong\n",
      "\n",
      "* Graham Ord                                         0.94272\n",
      "  graham ord born 22 march 1961 is an english musician and songwriter he has garnered respec\n",
      "  t internationally as a fine musician and engaging communicator his\n",
      "\n",
      "* Robert Scott Thompson                              0.94527\n",
      "  robert scott thompson born 1959 california is a composer of ambient instrumental and elect\n",
      "  roacoustic music he earned the bmus degree from the university of oregon\n",
      "\n",
      "* John Abram                                         0.94718\n",
      "  john abram born 1959 is an anglocanadian composer best known for his work with electroacou\n",
      "  stic musicborn in england abram became interested in music when he\n",
      "\n",
      "==========================================================================================\n",
      "Cluster 5  (218 docs)\n",
      "he:0.067 world:0.058 championships:0.056 at:0.044 won:0.039 \n",
      "\n",
      "* Christopher Hedquist                               0.92764\n",
      "  christopher hedquist born june 4 1980 salt lake city utah is an american skeleton racer in\n",
      "   2004 he won the overall european cup becoming the\n",
      "\n",
      "* Yang Yansheng                                      0.92860\n",
      "  yang yansheng simplified chinese born 5 january 1988 is a chinese pole vaulter he is the c\n",
      "  hinese record holder for the event both indoors and\n",
      "\n",
      "* Marty Krulee                                       0.92961\n",
      "  marty krulee born november 4 1956 is an american world class track and field athlete prima\n",
      "  rily known for running sprint races while never achieving outstanding\n",
      "\n",
      "* Anastasiya Rabchenyuk                              0.92964\n",
      "  anastasiya rabchenyuk ukrainian born 14 september 1983 is a ukrainian hurdler she was born\n",
      "   in ternivka at the time in the ukrainian ssr of the\n",
      "\n",
      "* Yordanis Garc%C3%ADa                               0.93031\n",
      "  yordanis garca barrisonte spanish pronunciation oranis arsia arisonte born november 21 198\n",
      "  8 in san juan y martnez pinar del ro is a male decathlete from\n",
      "\n",
      "==========================================================================================\n",
      "Cluster 6  (194 docs)\n",
      "new:0.065 york:0.062 he:0.060 for:0.037 his:0.035 \n",
      "\n",
      "* William M. Skretny                                 0.93837\n",
      "  william marion skretny born 1945 is a united states federal judgeborn in buffalo new york \n",
      "  skretny received an ab from canisius college in 1966 a\n",
      "\n",
      "* Tom Moody (artist)                                 0.94421\n",
      "  tom moody is a visual artist critic and blogger based in new york city he began his career\n",
      "   as a painter using traditional materials but\n",
      "\n",
      "* Christopher Lehmann-Haupt                          0.94494\n",
      "  christopher lehmannhaupt born 1934 is an american journalist critic and novelist he began \n",
      "  as an editor for various new york city publishing houses among them\n",
      "\n",
      "* Robert J. Gaffney                                  0.94593\n",
      "  robert j gaffney born 19441945 was the sixth county executive of suffolk county new york f\n",
      "  irst elected in 1991 he served through 2003 he was\n",
      "\n",
      "* Francis Edwards Peters                             0.94831\n",
      "  francis edward peters born june 23 1927 new york city who generally publishes as fe peters\n",
      "   is professor emeritus of history religion and middle eastern\n",
      "\n",
      "==========================================================================================\n",
      "Cluster 7  (115 docs)\n",
      "opera:0.109 she:0.062 de:0.040 at:0.040 he:0.039 \n",
      "\n",
      "* Susannah Waters                                    0.90292\n",
      "  susannah waters is a british writer and director born in kent england she attended both be\n",
      "  nnington college in america and the guildhall school of music\n",
      "\n",
      "* Martina Arroyo                                     0.90560\n",
      "  martina arroyo born february 2 1937 is an american operatic soprano who had a major intern\n",
      "  ational opera career from the 1960s through the 1980s she\n",
      "\n",
      "* Graham Clark (tenor)                               0.91019\n",
      "  graham clark born in 1941 lancashire england is an english opera tenor mainly known for hi\n",
      "  s character roles like loge das rheingold mime siegfried and\n",
      "\n",
      "* Vinson Cole                                        0.91056\n",
      "  vinson cole born november 21 1950 is an american operatic tenora native of kansas city the\n",
      "   tenor studied at the university of missouri kansas city\n",
      "\n",
      "* Gloria Lane                                        0.91229\n",
      "  gloria lane born june 6 1930 trenton new jersey is an american operatic mezzosoprano who h\n",
      "  ad an active international performance career from 1949 to 1976\n",
      "\n",
      "==========================================================================================\n",
      "Cluster 8  (1119 docs)\n",
      "he:0.084 was:0.049 as:0.038 for:0.036 university:0.036 \n",
      "\n",
      "* Doug Naysmith                                      0.94280\n",
      "  john douglas naysmith born 1 april 1941 is a british labour cooperative politician who was\n",
      "   the member of parliament mp for bristol north west from\n",
      "\n",
      "* Robert Worcester                                   0.94482\n",
      "  sir robert milton worcester kbe dl born 21 december 1933 is the founder of mori market opi\n",
      "  nion research international ltd and a member and contributor\n",
      "\n",
      "* Bill Clinton                                       0.94532\n",
      "  william jefferson bill clinton born william jefferson blythe iii august 19 1946 is an amer\n",
      "  ican politician who served from 1993 to 2001 as the 42nd\n",
      "\n",
      "* Hugo Parr                                          0.94540\n",
      "  hugo ragnar parr born 23 april 1947 is a norwegian physicist civil servant and politician \n",
      "  for the labour partyhe was born in asker he took\n",
      "\n",
      "* Elijah Anderson                                    0.94638\n",
      "  elijah anderson is an american sociologist he holds the william k lanman jr professorship \n",
      "  in sociology at yale university where he teaches and directs the\n",
      "\n",
      "==========================================================================================\n",
      "Cluster 9  (298 docs)\n",
      "she:0.080 series:0.059 film:0.053 television:0.044 as:0.039 \n",
      "\n",
      "* Natashia Williams                                  0.91607\n",
      "  natashia williamsblach born august 2 1978 is an american actress and former wonderbra camp\n",
      "  aign model who is perhaps best known for her role as shane\n",
      "\n",
      "* Sarah Lancashire                                   0.93031\n",
      "  sarah lancashire born 10 october 1964 is an english television film and theatre actress wh\n",
      "  o has also presented and directed for television lancashire trained at\n",
      "\n",
      "* Andrea Guasch                                      0.93223\n",
      "  andrea guasch born december 20 1990 is a spanish actress singer and dancer she started her\n",
      "   artistic career when she was just 2 years old\n",
      "\n",
      "* Sarah Michelle Gellar                              0.93389\n",
      "  sarah michelle prinze ne gellar born april 14 1977 is an american actress and producer aft\n",
      "  er being spotted by an agent at the age of\n",
      "\n",
      "* Malin %C3%85kerman                                 0.93460\n",
      "  malin maria kerman swedish pronunciation mln okrman born may 12 1978 is a swedish canadian\n",
      "   actress model and singer she is best known as an\n",
      "\n",
      "==========================================================================================\n"
     ]
    }
   ],
   "source": [
    "k = 10\n",
    "visualize_document_clusters(wiki, tf_idf, all_centroids[k], all_cluster_assignment[k], k, words)"
   ]
  },
  {
   "cell_type": "markdown",
   "metadata": {
    "colab_type": "text",
    "id": "eFEmQgrkqEt9"
   },
   "source": [
    "We no longer have the clear split between men and women. Cluters 0 and 2 appear to be still mixed, but others are quite consistent in content.\n",
    "* Cluster 0: notable women\n",
    "* Cluster 1: baseball players\n",
    "* Cluster 2: researchers, professors\n",
    "* Cluster 3: football(soccer)\n",
    "* Cluster 4: musicians, singers, song writers\n",
    "* Cluster 5: golfers\n",
    "* Cluster 6: painters, scultpers, artists\n",
    "* Cluster 7: orchestral musicians, conductors\n",
    "* Cluster 8: politicians, political personel\n",
    "* Cluster 9: film directors|\n",
    "\n",
    "Clusters are now more pure, but some are qualitatively \"bigger\" than others. For instance, the category of scholars is more general than the category of film directors. Increasing the number of clusters may split larger clusters. Another way to look at the size of cluster is to count the number of articles in each cluster."
   ]
  },
  {
   "cell_type": "code",
   "execution_count": 43,
   "metadata": {
    "colab": {},
    "colab_type": "code",
    "id": "DAiddEjHqEt-"
   },
   "outputs": [
    {
     "data": {
      "text/plain": [
       "array([1240,  812,  157,  868,  886,  218,  194,  115, 1119,  298],\n",
       "      dtype=int64)"
      ]
     },
     "execution_count": 43,
     "metadata": {},
     "output_type": "execute_result"
    }
   ],
   "source": [
    "np.bincount(all_cluster_assignment[10])"
   ]
  },
  {
   "cell_type": "markdown",
   "metadata": {
    "colab_type": "text",
    "id": "3cSpQE1UqEuB"
   },
   "source": [
    "There appears to be at least some connection between the topical consistency of a cluster and the number of its member data points."
   ]
  },
  {
   "cell_type": "markdown",
   "metadata": {
    "colab_type": "text",
    "id": "1q4u9EhVqEuB"
   },
   "source": [
    "Let us visualize the case for K=25. For the sake of brevity, we do not print the content of documents. It turns out that the top words with highest TF-IDF weights in each cluster are representative of the cluster."
   ]
  },
  {
   "cell_type": "code",
   "execution_count": 44,
   "metadata": {
    "colab": {},
    "colab_type": "code",
    "id": "uE6Ih-buqEuC"
   },
   "outputs": [
    {
     "name": "stdout",
     "output_type": "stream",
     "text": [
      "==========================================================================================\n",
      "Cluster 0  (297 docs)\n",
      "band:0.078 album:0.074 he:0.053 with:0.045 his:0.044 \n",
      "==========================================================================================\n",
      "Cluster 1  (169 docs)\n",
      "he:0.084 bbc:0.052 as:0.047 his:0.043 for:0.041 \n",
      "==========================================================================================\n",
      "Cluster 2  (125 docs)\n",
      "art:0.093 she:0.080 museum:0.046 her:0.037 at:0.037 \n",
      "==========================================================================================\n",
      "Cluster 3  (112 docs)\n",
      "he:0.075 was:0.043 medical:0.038 as:0.037 chief:0.037 \n",
      "==========================================================================================\n",
      "Cluster 4  (55 docs)\n",
      "language:0.067 he:0.048 linguistics:0.043 university:0.040 his:0.037 \n",
      "==========================================================================================\n",
      "Cluster 5  (396 docs)\n",
      "she:0.144 her:0.078 was:0.047 at:0.041 for:0.032 \n",
      "==========================================================================================\n",
      "Cluster 6  (188 docs)\n",
      "he:0.068 as:0.044 law:0.043 for:0.042 on:0.036 \n",
      "==========================================================================================\n",
      "Cluster 7  (33 docs)\n",
      "he:0.077 league:0.058 france:0.057 for:0.056 club:0.055 \n",
      "==========================================================================================\n",
      "Cluster 8  (148 docs)\n",
      "he:0.057 his:0.053 music:0.047 as:0.039 dj:0.036 \n",
      "==========================================================================================\n",
      "Cluster 9  (951 docs)\n",
      "he:0.078 university:0.049 at:0.038 was:0.038 research:0.036 \n",
      "==========================================================================================\n",
      "Cluster 10  (265 docs)\n",
      "music:0.100 he:0.060 for:0.044 his:0.042 with:0.041 \n",
      "==========================================================================================\n",
      "Cluster 11  (183 docs)\n",
      "he:0.097 club:0.061 his:0.046 for:0.046 was:0.043 \n",
      "==========================================================================================\n",
      "Cluster 12  (86 docs)\n",
      "opera:0.185 she:0.084 her:0.044 with:0.040 at:0.038 \n",
      "==========================================================================================\n",
      "Cluster 13  (21 docs)\n",
      "he:0.075 his:0.059 climbing:0.050 everest:0.048 yorkshire:0.046 \n",
      "==========================================================================================\n",
      "Cluster 14  (206 docs)\n",
      "minister:0.102 party:0.068 was:0.058 he:0.057 she:0.054 \n",
      "==========================================================================================\n",
      "Cluster 15  (401 docs)\n",
      "he:0.084 his:0.056 was:0.040 championship:0.038 at:0.038 \n",
      "==========================================================================================\n",
      "Cluster 16  (777 docs)\n",
      "she:0.103 her:0.101 film:0.054 for:0.041 as:0.034 \n",
      "==========================================================================================\n",
      "Cluster 17  (200 docs)\n",
      "he:0.083 was:0.068 election:0.059 party:0.049 as:0.043 \n",
      "==========================================================================================\n",
      "Cluster 18  (21 docs)\n",
      "china:0.102 chinese:0.096 healthcare:0.039 he:0.039 chinas:0.037 \n",
      "==========================================================================================\n",
      "Cluster 19  (251 docs)\n",
      "he:0.076 was:0.050 as:0.040 for:0.038 district:0.038 \n",
      "==========================================================================================\n",
      "Cluster 20  (211 docs)\n",
      "he:0.061 his:0.045 music:0.042 guitar:0.040 with:0.035 \n",
      "==========================================================================================\n",
      "Cluster 21  (300 docs)\n",
      "he:0.084 was:0.052 played:0.052 football:0.049 basketball:0.048 \n",
      "==========================================================================================\n",
      "Cluster 22  (162 docs)\n",
      "he:0.087 league:0.080 season:0.061 football:0.059 his:0.057 \n",
      "==========================================================================================\n",
      "Cluster 23  (179 docs)\n",
      "league:0.128 baseball:0.113 he:0.091 major:0.067 games:0.059 \n",
      "==========================================================================================\n",
      "Cluster 24  (170 docs)\n",
      "he:0.070 for:0.051 sports:0.045 radio:0.045 on:0.045 \n",
      "==========================================================================================\n"
     ]
    }
   ],
   "source": [
    "k = 25\n",
    "visualize_document_clusters(wiki, tf_idf, all_centroids[k], all_cluster_assignment[k], k,\n",
    "                            words, display_docs=0) # turn off text for brevity"
   ]
  },
  {
   "cell_type": "markdown",
   "metadata": {
    "colab_type": "text",
    "id": "7zrrQ7yqqEuD"
   },
   "source": [
    "Looking at the representative examples and top words, we classify each cluster as follows. Notice the bolded items, which indicate the appearance of a new theme.\n",
    "* Cluster 0: **British labor party**\n",
    "* Cluster 1: **Bishops**\n",
    "* Cluster 2: **danish CEOs**\n",
    "* Cluster 3: baseball\n",
    "* Cluster 4: politicials\n",
    "* Cluster 5: **psychology researchers**\n",
    "* Cluster 6: **medical researchers**\n",
    "* Cluster 7: **republican politicians**\n",
    "* Cluster 8: football(soccer)\n",
    "* Cluster 9: **prime ministers**\n",
    "* Cluster 10: golfers\n",
    "* Cluster 11: coaches\n",
    "* Cluster 12: **lawers**\n",
    "* Cluster 13: researchers, professors\n",
    "* Cluster 14: writers\n",
    "* Cluster 15: artists, museaum workers\n",
    "* Cluster 16: film directors\n",
    "* Cluster 17: musicians\n",
    "* Cluster 18: **airforce commanders**\n",
    "* Cluster 19: orchestral musicians\n",
    "* Cluster 20: *unclear*\n",
    "* Cluster 21: *unclear*\n",
    "* Cluster 22: *unclear*\n",
    "* Cluster 23: politicians\n",
    "* Cluster 24: **hockey players**\n",
    "\n",
    "Indeed, increasing K achieved the desired effect of breaking up large clusters.  Depending on the application, this may or may not be preferable to the K=10 analysis.\n",
    "\n",
    "Let's take it to the extreme and set K=100. We have a suspicion that this value is too large. Let us look at the top words from each cluster:"
   ]
  },
  {
   "cell_type": "code",
   "execution_count": 50,
   "metadata": {
    "colab": {},
    "colab_type": "code",
    "id": "xx-YopxTqEuE"
   },
   "outputs": [
    {
     "name": "stdout",
     "output_type": "stream",
     "text": [
      "==========================================================================================\n",
      "Cluster 0  (236 docs)\n",
      "she:0.099 her:0.091 music:0.045 for:0.044 with:0.036 \n",
      "==========================================================================================\n",
      "Cluster 1  (210 docs)\n",
      "coach:0.110 he:0.082 team:0.050 football:0.047 was:0.047 \n",
      "==========================================================================================\n",
      "Cluster 2  (14 docs)\n",
      "director:0.065 he:0.063 mr:0.058 hooker:0.050 jindal:0.050 \n",
      "==========================================================================================\n",
      "Cluster 3  (140 docs)\n",
      "football:0.082 he:0.078 australian:0.077 afl:0.060 his:0.056 \n",
      "==========================================================================================\n",
      "Cluster 4  (188 docs)\n",
      "music:0.115 he:0.086 his:0.053 with:0.046 has:0.038 \n",
      "==========================================================================================\n",
      "Cluster 5  (90 docs)\n",
      "championships:0.084 world:0.077 he:0.072 metres:0.056 at:0.053 \n",
      "==========================================================================================\n",
      "Cluster 6  (9 docs)\n",
      "yoga:0.236 iskcon:0.089 he:0.065 new:0.063 swami:0.062 \n",
      "==========================================================================================\n",
      "Cluster 7  (47 docs)\n",
      "opera:0.227 she:0.074 at:0.042 with:0.041 la:0.040 \n",
      "==========================================================================================\n",
      "Cluster 8  (110 docs)\n",
      "he:0.087 chairman:0.069 board:0.058 was:0.051 member:0.038 \n",
      "==========================================================================================\n",
      "Cluster 9  (98 docs)\n",
      "she:0.117 series:0.075 miss:0.073 her:0.065 role:0.059 \n",
      "==========================================================================================\n",
      "Cluster 10  (48 docs)\n",
      "law:0.268 he:0.073 legal:0.062 school:0.054 court:0.052 \n",
      "==========================================================================================\n",
      "Cluster 11  (64 docs)\n",
      "japanese:0.070 he:0.060 his:0.041 war:0.036 for:0.035 \n",
      "==========================================================================================\n",
      "Cluster 12  (105 docs)\n",
      "law:0.072 he:0.071 federal:0.046 was:0.046 as:0.044 \n",
      "==========================================================================================\n",
      "Cluster 13  (67 docs)\n",
      "minister:0.086 she:0.070 was:0.050 finance:0.048 he:0.048 \n",
      "==========================================================================================\n",
      "Cluster 14  (94 docs)\n",
      "she:0.192 her:0.056 was:0.051 for:0.047 on:0.039 \n",
      "==========================================================================================\n",
      "Cluster 15  (24 docs)\n",
      "football:0.148 bailey:0.079 virginia:0.064 he:0.059 was:0.044 \n",
      "==========================================================================================\n",
      "Cluster 16  (45 docs)\n",
      "he:0.071 republican:0.062 senate:0.062 district:0.061 seat:0.056 \n",
      "==========================================================================================\n",
      "Cluster 17  (39 docs)\n",
      "sox:0.142 league:0.103 red:0.099 baseball:0.097 he:0.094 \n",
      "==========================================================================================\n",
      "Cluster 18  (23 docs)\n",
      "bush:0.080 president:0.073 service:0.071 he:0.058 corps:0.056 \n",
      "==========================================================================================\n",
      "Cluster 19  (21 docs)\n",
      "manitoba:0.154 he:0.084 was:0.059 election:0.051 provincial:0.049 \n",
      "==========================================================================================\n",
      "Cluster 20  (38 docs)\n",
      "he:0.083 was:0.072 election:0.052 as:0.044 mayor:0.044 \n",
      "==========================================================================================\n",
      "Cluster 21  (26 docs)\n",
      "canadian:0.082 curling:0.075 ontario:0.074 championships:0.070 team:0.060 \n",
      "==========================================================================================\n",
      "Cluster 22  (60 docs)\n",
      "he:0.077 connecticut:0.050 was:0.046 his:0.040 hall:0.039 \n",
      "==========================================================================================\n",
      "Cluster 23  (83 docs)\n",
      "band:0.118 he:0.057 album:0.047 bands:0.041 with:0.041 \n",
      "==========================================================================================\n",
      "Cluster 24  (138 docs)\n",
      "he:0.068 for:0.043 university:0.040 his:0.040 on:0.037 \n",
      "==========================================================================================\n",
      "Cluster 25  (152 docs)\n",
      "he:0.098 cup:0.075 league:0.067 for:0.057 his:0.056 \n",
      "==========================================================================================\n",
      "Cluster 26  (25 docs)\n",
      "he:0.087 comedy:0.081 show:0.063 appeared:0.056 television:0.054 \n",
      "==========================================================================================\n",
      "Cluster 27  (26 docs)\n",
      "was:0.057 he:0.053 court:0.048 murder:0.041 that:0.040 \n",
      "==========================================================================================\n",
      "Cluster 28  (67 docs)\n",
      "church:0.100 he:0.067 lds:0.051 was:0.046 as:0.041 \n",
      "==========================================================================================\n",
      "Cluster 29  (71 docs)\n",
      "hockey:0.207 nhl:0.099 he:0.073 ice:0.069 season:0.068 \n",
      "==========================================================================================\n",
      "Cluster 30  (38 docs)\n",
      "health:0.154 he:0.069 medical:0.046 was:0.044 hospital:0.043 \n",
      "==========================================================================================\n",
      "Cluster 31  (66 docs)\n",
      "for:0.057 animation:0.052 he:0.051 york:0.045 new:0.044 \n",
      "==========================================================================================\n",
      "Cluster 32  (20 docs)\n",
      "army:0.105 singh:0.091 he:0.072 general:0.067 was:0.060 \n",
      "==========================================================================================\n",
      "Cluster 33  (51 docs)\n",
      "poetry:0.177 poems:0.095 poet:0.063 published:0.055 she:0.050 \n",
      "==========================================================================================\n",
      "Cluster 34  (29 docs)\n",
      "he:0.060 bank:0.058 dublin:0.046 was:0.044 executive:0.041 \n",
      "==========================================================================================\n",
      "Cluster 35  (45 docs)\n",
      "he:0.065 was:0.046 his:0.044 that:0.039 on:0.037 \n",
      "==========================================================================================\n",
      "Cluster 36  (14 docs)\n",
      "triathlon:0.105 he:0.067 olympics:0.067 competed:0.062 world:0.053 \n",
      "==========================================================================================\n",
      "Cluster 37  (115 docs)\n",
      "league:0.115 he:0.097 baseball:0.096 season:0.069 major:0.064 \n",
      "==========================================================================================\n",
      "Cluster 38  (25 docs)\n",
      "he:0.085 his:0.066 leslie:0.050 was:0.039 on:0.037 \n",
      "==========================================================================================\n",
      "Cluster 39  (19 docs)\n",
      "khan:0.115 open:0.085 he:0.085 squash:0.061 title:0.048 \n",
      "==========================================================================================\n",
      "Cluster 40  (22 docs)\n",
      "billion:0.056 he:0.043 china:0.040 saudi:0.034 business:0.033 \n",
      "==========================================================================================\n",
      "Cluster 41  (3 docs)\n",
      "piatt:0.233 weather:0.190 fiber:0.101 tampa:0.100 them:0.095 \n",
      "==========================================================================================\n",
      "Cluster 42  (37 docs)\n",
      "chamber:0.109 orchestra:0.106 music:0.097 he:0.063 harpsichord:0.060 \n",
      "==========================================================================================\n",
      "Cluster 43  (31 docs)\n",
      "piano:0.178 he:0.063 music:0.060 his:0.051 symphony:0.050 \n",
      "==========================================================================================\n",
      "Cluster 44  (16 docs)\n",
      "rabbi:0.203 green:0.093 jewish:0.084 he:0.068 religious:0.049 \n",
      "==========================================================================================\n",
      "Cluster 45  (30 docs)\n",
      "votes:0.068 jersey:0.065 he:0.062 assembly:0.051 republican:0.050 \n",
      "==========================================================================================\n",
      "Cluster 46  (14 docs)\n",
      "software:0.081 he:0.076 his:0.046 computational:0.044 zend:0.043 \n",
      "==========================================================================================\n",
      "Cluster 47  (15 docs)\n",
      "scott:0.157 he:0.051 mcclure:0.049 pooh:0.048 2003s2003:0.044 \n",
      "==========================================================================================\n",
      "Cluster 48  (23 docs)\n",
      "guitar:0.120 duncan:0.088 he:0.055 with:0.041 his:0.040 \n",
      "==========================================================================================\n",
      "Cluster 49  (69 docs)\n",
      "he:0.074 physics:0.067 research:0.048 university:0.042 at:0.038 \n",
      "==========================================================================================\n",
      "Cluster 50  (82 docs)\n",
      "university:0.072 research:0.072 science:0.060 chemistry:0.057 professor:0.056 \n",
      "==========================================================================================\n",
      "Cluster 51  (1 docs)\n",
      "todori:0.629 ivica:0.349 agrokor:0.279 croatian:0.150 zagreb:0.146 \n",
      "==========================================================================================\n",
      "Cluster 52  (312 docs)\n",
      "he:0.085 university:0.062 research:0.046 at:0.045 his:0.042 \n",
      "==========================================================================================\n",
      "Cluster 53  (30 docs)\n",
      "nfl:0.141 football:0.073 he:0.070 basketball:0.067 for:0.053 \n",
      "==========================================================================================\n",
      "Cluster 54  (71 docs)\n",
      "art:0.149 her:0.083 she:0.071 work:0.045 museum:0.040 \n",
      "==========================================================================================\n",
      "Cluster 55  (56 docs)\n",
      "governor:0.085 election:0.074 he:0.072 party:0.061 was:0.058 \n",
      "==========================================================================================\n",
      "Cluster 56  (6 docs)\n",
      "keith:0.190 acappella:0.122 willis:0.098 scharf:0.064 linux:0.060 \n",
      "==========================================================================================\n",
      "Cluster 57  (49 docs)\n",
      "theatre:0.197 directed:0.053 play:0.047 he:0.046 at:0.045 \n",
      "==========================================================================================\n",
      "Cluster 58  (7 docs)\n",
      "ski:0.344 popangelov:0.087 alhajuj:0.073 bulgarian:0.071 winter:0.071 \n",
      "==========================================================================================\n",
      "Cluster 59  (54 docs)\n",
      "he:0.089 league:0.050 his:0.049 giants:0.047 was:0.046 \n",
      "==========================================================================================\n",
      "Cluster 60  (186 docs)\n",
      "he:0.096 was:0.062 as:0.051 from:0.046 minister:0.039 \n",
      "==========================================================================================\n",
      "Cluster 61  (27 docs)\n",
      "jazz:0.084 he:0.057 with:0.051 his:0.049 trumpet:0.035 \n",
      "==========================================================================================\n",
      "Cluster 62  (31 docs)\n",
      "campaign:0.096 he:0.050 for:0.044 was:0.043 as:0.040 \n",
      "==========================================================================================\n",
      "Cluster 63  (89 docs)\n",
      "art:0.162 museum:0.105 gallery:0.064 he:0.059 his:0.055 \n",
      "==========================================================================================\n",
      "Cluster 64  (13 docs)\n",
      "rt:0.138 irish:0.102 radio:0.086 he:0.068 bridgeman:0.061 \n",
      "==========================================================================================\n",
      "Cluster 65  (2 docs)\n",
      "ruiz:0.263 hjuler:0.201 baer:0.181 mama:0.176 kommissar:0.134 \n",
      "==========================================================================================\n",
      "Cluster 66  (48 docs)\n",
      "he:0.081 justice:0.063 turkish:0.048 was:0.047 as:0.041 \n",
      "==========================================================================================\n",
      "Cluster 67  (28 docs)\n",
      "orchestra:0.240 conductor:0.146 symphony:0.117 music:0.108 philharmonic:0.102 \n",
      "==========================================================================================\n",
      "Cluster 68  (28 docs)\n",
      "cancer:0.099 clinical:0.066 medical:0.066 research:0.061 medicine:0.054 \n",
      "==========================================================================================\n",
      "Cluster 69  (20 docs)\n",
      "buddhist:0.094 oxford:0.079 tibetan:0.071 he:0.062 buddhism:0.052 \n",
      "==========================================================================================\n",
      "Cluster 70  (5 docs)\n",
      "forsberg:0.085 tv:0.083 hearing:0.080 voice:0.076 reffett:0.076 \n",
      "==========================================================================================\n",
      "Cluster 71  (28 docs)\n",
      "winnipeg:0.066 he:0.065 manitoba:0.063 mayor:0.063 committee:0.063 \n",
      "==========================================================================================\n",
      "Cluster 72  (21 docs)\n",
      "comic:0.109 comics:0.083 san:0.067 francisco:0.064 he:0.054 \n",
      "==========================================================================================\n",
      "Cluster 73  (20 docs)\n",
      "poker:0.270 event:0.100 wsop:0.089 tournament:0.089 she:0.066 \n",
      "==========================================================================================\n",
      "Cluster 74  (54 docs)\n",
      "basketball:0.122 nba:0.110 points:0.102 he:0.079 rebounds:0.059 \n",
      "==========================================================================================\n",
      "Cluster 75  (23 docs)\n",
      "she:0.174 baseball:0.174 her:0.116 league:0.115 girls:0.086 \n",
      "==========================================================================================\n",
      "Cluster 76  (9 docs)\n",
      "irving:0.083 publishing:0.075 bonnycastle:0.074 dick:0.066 nyholm:0.065 \n",
      "==========================================================================================\n",
      "Cluster 77  (40 docs)\n",
      "was:0.068 he:0.060 charges:0.057 on:0.047 counts:0.041 \n",
      "==========================================================================================\n",
      "Cluster 78  (152 docs)\n",
      "he:0.096 club:0.062 season:0.056 his:0.053 for:0.052 \n",
      "==========================================================================================\n",
      "Cluster 79  (36 docs)\n",
      "he:0.126 german:0.111 his:0.057 was:0.046 for:0.037 \n",
      "==========================================================================================\n",
      "Cluster 80  (136 docs)\n",
      "she:0.225 her:0.128 was:0.040 at:0.035 with:0.032 \n",
      "==========================================================================================\n",
      "Cluster 81  (6 docs)\n",
      "hearst:0.125 leech:0.118 meter:0.107 hurdles:0.090 martel:0.088 \n",
      "==========================================================================================\n",
      "Cluster 82  (101 docs)\n",
      "her:0.164 she:0.140 was:0.044 for:0.034 fashion:0.033 \n",
      "==========================================================================================\n",
      "Cluster 83  (29 docs)\n",
      "he:0.097 his:0.061 speedway:0.057 for:0.055 racing:0.052 \n",
      "==========================================================================================\n",
      "Cluster 84  (175 docs)\n",
      "film:0.176 he:0.052 films:0.051 festival:0.045 for:0.043 \n",
      "==========================================================================================\n",
      "Cluster 85  (27 docs)\n",
      "voice:0.088 series:0.072 he:0.063 television:0.046 roles:0.045 \n",
      "==========================================================================================\n",
      "Cluster 86  (75 docs)\n",
      "minister:0.117 she:0.085 election:0.072 was:0.070 party:0.068 \n",
      "==========================================================================================\n",
      "Cluster 87  (11 docs)\n",
      "he:0.067 guest:0.060 elevator:0.056 film:0.054 television:0.053 \n",
      "==========================================================================================\n",
      "Cluster 88  (28 docs)\n",
      "hop:0.079 hip:0.077 he:0.063 wwe:0.061 wrestling:0.054 \n",
      "==========================================================================================\n",
      "Cluster 89  (34 docs)\n",
      "song:0.159 eurovision:0.054 band:0.050 on:0.044 with:0.039 \n",
      "==========================================================================================\n",
      "Cluster 90  (296 docs)\n",
      "album:0.083 her:0.079 she:0.071 music:0.054 released:0.044 \n",
      "==========================================================================================\n",
      "Cluster 91  (27 docs)\n",
      "air:0.181 force:0.094 commander:0.073 command:0.072 he:0.069 \n",
      "==========================================================================================\n",
      "Cluster 92  (136 docs)\n",
      "she:0.070 novel:0.058 her:0.055 for:0.047 published:0.045 \n",
      "==========================================================================================\n",
      "Cluster 93  (83 docs)\n",
      "he:0.071 new:0.065 york:0.048 for:0.046 his:0.037 \n",
      "==========================================================================================\n",
      "Cluster 94  (18 docs)\n",
      "parish:0.145 he:0.055 was:0.045 his:0.039 greenberg:0.038 \n",
      "==========================================================================================\n",
      "Cluster 95  (27 docs)\n",
      "league:0.113 runs:0.084 baseball:0.076 he:0.072 game:0.069 \n",
      "==========================================================================================\n",
      "Cluster 96  (65 docs)\n",
      "he:0.059 band:0.058 with:0.045 on:0.039 show:0.038 \n",
      "==========================================================================================\n",
      "Cluster 97  (14 docs)\n",
      "rao:0.113 film:0.087 he:0.074 indian:0.072 telugu:0.071 \n",
      "==========================================================================================\n",
      "Cluster 98  (42 docs)\n",
      "tour:0.201 golf:0.190 pga:0.177 he:0.088 his:0.061 \n",
      "==========================================================================================\n",
      "Cluster 99  (9 docs)\n",
      "theory:0.099 relativity:0.085 that:0.075 ortiz:0.065 he:0.062 \n",
      "==========================================================================================\n"
     ]
    }
   ],
   "source": [
    "k=100\n",
    "visualize_document_clusters(wiki, tf_idf, all_centroids[k], all_cluster_assignment[k], k,\n",
    "                            words, display_docs=0)"
   ]
  },
  {
   "cell_type": "markdown",
   "metadata": {
    "colab_type": "text",
    "id": "bZgU3lAXqEuF"
   },
   "source": [
    "**A high value of K encourages pure clusters, but we cannot keep increasing K. For large enough K, related documents end up going to different clusters.**\n",
    "\n",
    "That said, the result for K=100 is not entirely bad. After all, it gives us separate clusters for such categories as Scotland, Brazil, LGBT, computer science and the Mormon Church. If we set K somewhere between 25 and 100, we should be able to avoid breaking up clusters while discovering new ones.\n",
    "\n",
    "Also, we should ask ourselves how much **granularity** we want in our clustering. If we wanted a rough sketch of Wikipedia, we don't want too detailed clusters. On the other hand, having many clusters can be valuable when we are zooming into a certain part of Wikipedia.\n",
    "\n",
    "**There is no golden rule for choosing K. It all depends on the particular application and domain we are in.**\n"
   ]
  }
 ],
 "metadata": {
  "colab": {
   "collapsed_sections": [],
   "name": "A7_k_means_with_text_data.ipynb",
   "provenance": []
  },
  "kernelspec": {
   "display_name": "Python 3",
   "language": "python",
   "name": "python3"
  },
  "language_info": {
   "codemirror_mode": {
    "name": "ipython",
    "version": 3
   },
   "file_extension": ".py",
   "mimetype": "text/x-python",
   "name": "python",
   "nbconvert_exporter": "python",
   "pygments_lexer": "ipython3",
   "version": "3.7.10"
  }
 },
 "nbformat": 4,
 "nbformat_minor": 1
}
