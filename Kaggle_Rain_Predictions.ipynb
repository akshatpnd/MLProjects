{
 "cells": [
  {
   "cell_type": "markdown",
   "metadata": {},
   "source": [
    "## Exploring data"
   ]
  },
  {
   "cell_type": "code",
   "execution_count": 1,
   "metadata": {},
   "outputs": [],
   "source": [
    "import pandas as pd\n",
    "import numpy as np\n",
    "import matplotlib.pyplot as plt"
   ]
  },
  {
   "cell_type": "code",
   "execution_count": 2,
   "metadata": {},
   "outputs": [],
   "source": [
    "rain_data = pd.read_csv('seattle_rain_train.csv')\n",
    "test_data = pd.read_csv('seattle_rain_test.csv')"
   ]
  },
  {
   "cell_type": "code",
   "execution_count": 3,
   "metadata": {},
   "outputs": [
    {
     "data": {
      "text/html": [
       "<div>\n",
       "<style scoped>\n",
       "    .dataframe tbody tr th:only-of-type {\n",
       "        vertical-align: middle;\n",
       "    }\n",
       "\n",
       "    .dataframe tbody tr th {\n",
       "        vertical-align: top;\n",
       "    }\n",
       "\n",
       "    .dataframe thead th {\n",
       "        text-align: right;\n",
       "    }\n",
       "</style>\n",
       "<table border=\"1\" class=\"dataframe\">\n",
       "  <thead>\n",
       "    <tr style=\"text-align: right;\">\n",
       "      <th></th>\n",
       "      <th>DATE</th>\n",
       "      <th>PRCP</th>\n",
       "      <th>TMAX</th>\n",
       "      <th>TMIN</th>\n",
       "      <th>RAIN</th>\n",
       "      <th>TMIDR</th>\n",
       "      <th>TRANGE</th>\n",
       "      <th>MONTH</th>\n",
       "      <th>SEASON</th>\n",
       "      <th>TMRW_RAIN</th>\n",
       "      <th>TMRW_PRCP</th>\n",
       "      <th>YEST_RAIN</th>\n",
       "      <th>YEST_PRCP</th>\n",
       "      <th>SUM7_PRCP</th>\n",
       "      <th>SUM14_PRCP</th>\n",
       "      <th>SUM30_PRCP</th>\n",
       "    </tr>\n",
       "  </thead>\n",
       "  <tbody>\n",
       "    <tr>\n",
       "      <th>0</th>\n",
       "      <td>1948-01-30</td>\n",
       "      <td>0.03</td>\n",
       "      <td>47</td>\n",
       "      <td>30</td>\n",
       "      <td>1</td>\n",
       "      <td>38.5</td>\n",
       "      <td>17</td>\n",
       "      <td>1</td>\n",
       "      <td>1</td>\n",
       "      <td>1.0</td>\n",
       "      <td>0.21</td>\n",
       "      <td>1.0</td>\n",
       "      <td>0.22</td>\n",
       "      <td>0.35</td>\n",
       "      <td>0.56</td>\n",
       "      <td>4.28</td>\n",
       "    </tr>\n",
       "    <tr>\n",
       "      <th>1</th>\n",
       "      <td>1948-01-31</td>\n",
       "      <td>0.21</td>\n",
       "      <td>35</td>\n",
       "      <td>27</td>\n",
       "      <td>1</td>\n",
       "      <td>31.0</td>\n",
       "      <td>8</td>\n",
       "      <td>1</td>\n",
       "      <td>1</td>\n",
       "      <td>1.0</td>\n",
       "      <td>0.03</td>\n",
       "      <td>1.0</td>\n",
       "      <td>0.03</td>\n",
       "      <td>0.46</td>\n",
       "      <td>0.77</td>\n",
       "      <td>4.02</td>\n",
       "    </tr>\n",
       "    <tr>\n",
       "      <th>2</th>\n",
       "      <td>1948-02-01</td>\n",
       "      <td>0.03</td>\n",
       "      <td>39</td>\n",
       "      <td>30</td>\n",
       "      <td>1</td>\n",
       "      <td>34.5</td>\n",
       "      <td>9</td>\n",
       "      <td>2</td>\n",
       "      <td>1</td>\n",
       "      <td>0.0</td>\n",
       "      <td>0.00</td>\n",
       "      <td>1.0</td>\n",
       "      <td>0.21</td>\n",
       "      <td>0.49</td>\n",
       "      <td>0.80</td>\n",
       "      <td>3.46</td>\n",
       "    </tr>\n",
       "    <tr>\n",
       "      <th>3</th>\n",
       "      <td>1948-02-02</td>\n",
       "      <td>0.00</td>\n",
       "      <td>43</td>\n",
       "      <td>26</td>\n",
       "      <td>0</td>\n",
       "      <td>34.5</td>\n",
       "      <td>17</td>\n",
       "      <td>2</td>\n",
       "      <td>1</td>\n",
       "      <td>1.0</td>\n",
       "      <td>0.20</td>\n",
       "      <td>1.0</td>\n",
       "      <td>0.03</td>\n",
       "      <td>0.49</td>\n",
       "      <td>0.80</td>\n",
       "      <td>3.04</td>\n",
       "    </tr>\n",
       "    <tr>\n",
       "      <th>4</th>\n",
       "      <td>1948-02-03</td>\n",
       "      <td>0.20</td>\n",
       "      <td>38</td>\n",
       "      <td>26</td>\n",
       "      <td>1</td>\n",
       "      <td>32.0</td>\n",
       "      <td>12</td>\n",
       "      <td>2</td>\n",
       "      <td>1</td>\n",
       "      <td>1.0</td>\n",
       "      <td>0.14</td>\n",
       "      <td>0.0</td>\n",
       "      <td>0.00</td>\n",
       "      <td>0.69</td>\n",
       "      <td>1.00</td>\n",
       "      <td>2.93</td>\n",
       "    </tr>\n",
       "    <tr>\n",
       "      <th>5</th>\n",
       "      <td>1948-02-04</td>\n",
       "      <td>0.14</td>\n",
       "      <td>39</td>\n",
       "      <td>31</td>\n",
       "      <td>1</td>\n",
       "      <td>35.0</td>\n",
       "      <td>8</td>\n",
       "      <td>2</td>\n",
       "      <td>1</td>\n",
       "      <td>0.0</td>\n",
       "      <td>0.00</td>\n",
       "      <td>1.0</td>\n",
       "      <td>0.20</td>\n",
       "      <td>0.83</td>\n",
       "      <td>1.14</td>\n",
       "      <td>2.90</td>\n",
       "    </tr>\n",
       "    <tr>\n",
       "      <th>6</th>\n",
       "      <td>1948-02-05</td>\n",
       "      <td>0.00</td>\n",
       "      <td>36</td>\n",
       "      <td>26</td>\n",
       "      <td>0</td>\n",
       "      <td>31.0</td>\n",
       "      <td>10</td>\n",
       "      <td>2</td>\n",
       "      <td>1</td>\n",
       "      <td>0.0</td>\n",
       "      <td>0.00</td>\n",
       "      <td>1.0</td>\n",
       "      <td>0.14</td>\n",
       "      <td>0.61</td>\n",
       "      <td>0.93</td>\n",
       "      <td>2.46</td>\n",
       "    </tr>\n",
       "    <tr>\n",
       "      <th>7</th>\n",
       "      <td>1948-02-06</td>\n",
       "      <td>0.00</td>\n",
       "      <td>43</td>\n",
       "      <td>20</td>\n",
       "      <td>0</td>\n",
       "      <td>31.5</td>\n",
       "      <td>23</td>\n",
       "      <td>2</td>\n",
       "      <td>1</td>\n",
       "      <td>1.0</td>\n",
       "      <td>0.06</td>\n",
       "      <td>0.0</td>\n",
       "      <td>0.00</td>\n",
       "      <td>0.58</td>\n",
       "      <td>0.93</td>\n",
       "      <td>2.05</td>\n",
       "    </tr>\n",
       "    <tr>\n",
       "      <th>8</th>\n",
       "      <td>1948-02-07</td>\n",
       "      <td>0.06</td>\n",
       "      <td>43</td>\n",
       "      <td>27</td>\n",
       "      <td>1</td>\n",
       "      <td>35.0</td>\n",
       "      <td>16</td>\n",
       "      <td>2</td>\n",
       "      <td>1</td>\n",
       "      <td>1.0</td>\n",
       "      <td>0.56</td>\n",
       "      <td>0.0</td>\n",
       "      <td>0.00</td>\n",
       "      <td>0.43</td>\n",
       "      <td>0.89</td>\n",
       "      <td>2.07</td>\n",
       "    </tr>\n",
       "    <tr>\n",
       "      <th>9</th>\n",
       "      <td>1948-02-08</td>\n",
       "      <td>0.56</td>\n",
       "      <td>44</td>\n",
       "      <td>35</td>\n",
       "      <td>1</td>\n",
       "      <td>39.5</td>\n",
       "      <td>9</td>\n",
       "      <td>2</td>\n",
       "      <td>1</td>\n",
       "      <td>0.0</td>\n",
       "      <td>0.00</td>\n",
       "      <td>1.0</td>\n",
       "      <td>0.06</td>\n",
       "      <td>0.96</td>\n",
       "      <td>1.45</td>\n",
       "      <td>2.51</td>\n",
       "    </tr>\n",
       "  </tbody>\n",
       "</table>\n",
       "</div>"
      ],
      "text/plain": [
       "         DATE  PRCP  TMAX  TMIN  RAIN  TMIDR  TRANGE  MONTH  SEASON  \\\n",
       "0  1948-01-30  0.03    47    30     1   38.5      17      1       1   \n",
       "1  1948-01-31  0.21    35    27     1   31.0       8      1       1   \n",
       "2  1948-02-01  0.03    39    30     1   34.5       9      2       1   \n",
       "3  1948-02-02  0.00    43    26     0   34.5      17      2       1   \n",
       "4  1948-02-03  0.20    38    26     1   32.0      12      2       1   \n",
       "5  1948-02-04  0.14    39    31     1   35.0       8      2       1   \n",
       "6  1948-02-05  0.00    36    26     0   31.0      10      2       1   \n",
       "7  1948-02-06  0.00    43    20     0   31.5      23      2       1   \n",
       "8  1948-02-07  0.06    43    27     1   35.0      16      2       1   \n",
       "9  1948-02-08  0.56    44    35     1   39.5       9      2       1   \n",
       "\n",
       "   TMRW_RAIN  TMRW_PRCP  YEST_RAIN  YEST_PRCP  SUM7_PRCP  SUM14_PRCP  \\\n",
       "0        1.0       0.21        1.0       0.22       0.35        0.56   \n",
       "1        1.0       0.03        1.0       0.03       0.46        0.77   \n",
       "2        0.0       0.00        1.0       0.21       0.49        0.80   \n",
       "3        1.0       0.20        1.0       0.03       0.49        0.80   \n",
       "4        1.0       0.14        0.0       0.00       0.69        1.00   \n",
       "5        0.0       0.00        1.0       0.20       0.83        1.14   \n",
       "6        0.0       0.00        1.0       0.14       0.61        0.93   \n",
       "7        1.0       0.06        0.0       0.00       0.58        0.93   \n",
       "8        1.0       0.56        0.0       0.00       0.43        0.89   \n",
       "9        0.0       0.00        1.0       0.06       0.96        1.45   \n",
       "\n",
       "   SUM30_PRCP  \n",
       "0        4.28  \n",
       "1        4.02  \n",
       "2        3.46  \n",
       "3        3.04  \n",
       "4        2.93  \n",
       "5        2.90  \n",
       "6        2.46  \n",
       "7        2.05  \n",
       "8        2.07  \n",
       "9        2.51  "
      ]
     },
     "execution_count": 3,
     "metadata": {},
     "output_type": "execute_result"
    }
   ],
   "source": [
    "rain_data.head(10)"
   ]
  },
  {
   "cell_type": "code",
   "execution_count": 4,
   "metadata": {},
   "outputs": [
    {
     "data": {
      "text/html": [
       "<div>\n",
       "<style scoped>\n",
       "    .dataframe tbody tr th:only-of-type {\n",
       "        vertical-align: middle;\n",
       "    }\n",
       "\n",
       "    .dataframe tbody tr th {\n",
       "        vertical-align: top;\n",
       "    }\n",
       "\n",
       "    .dataframe thead th {\n",
       "        text-align: right;\n",
       "    }\n",
       "</style>\n",
       "<table border=\"1\" class=\"dataframe\">\n",
       "  <thead>\n",
       "    <tr style=\"text-align: right;\">\n",
       "      <th></th>\n",
       "      <th>Id</th>\n",
       "      <th>PRCP</th>\n",
       "      <th>TMAX</th>\n",
       "      <th>TMIN</th>\n",
       "      <th>RAIN</th>\n",
       "      <th>TMIDR</th>\n",
       "      <th>TRANGE</th>\n",
       "      <th>MONTH</th>\n",
       "      <th>SEASON</th>\n",
       "      <th>YEST_RAIN</th>\n",
       "      <th>YEST_PRCP</th>\n",
       "      <th>SUM7_PRCP</th>\n",
       "      <th>SUM14_PRCP</th>\n",
       "      <th>SUM30_PRCP</th>\n",
       "    </tr>\n",
       "  </thead>\n",
       "  <tbody>\n",
       "    <tr>\n",
       "      <th>0</th>\n",
       "      <td>0</td>\n",
       "      <td>0.00</td>\n",
       "      <td>49</td>\n",
       "      <td>37</td>\n",
       "      <td>0</td>\n",
       "      <td>43.0</td>\n",
       "      <td>12</td>\n",
       "      <td>2</td>\n",
       "      <td>1</td>\n",
       "      <td>0.0</td>\n",
       "      <td>0.00</td>\n",
       "      <td>0.20</td>\n",
       "      <td>0.87</td>\n",
       "      <td>2.33</td>\n",
       "    </tr>\n",
       "    <tr>\n",
       "      <th>1</th>\n",
       "      <td>1</td>\n",
       "      <td>0.25</td>\n",
       "      <td>63</td>\n",
       "      <td>56</td>\n",
       "      <td>1</td>\n",
       "      <td>59.5</td>\n",
       "      <td>7</td>\n",
       "      <td>9</td>\n",
       "      <td>3</td>\n",
       "      <td>0.0</td>\n",
       "      <td>0.00</td>\n",
       "      <td>0.25</td>\n",
       "      <td>0.30</td>\n",
       "      <td>0.73</td>\n",
       "    </tr>\n",
       "    <tr>\n",
       "      <th>2</th>\n",
       "      <td>2</td>\n",
       "      <td>0.11</td>\n",
       "      <td>50</td>\n",
       "      <td>38</td>\n",
       "      <td>1</td>\n",
       "      <td>44.0</td>\n",
       "      <td>12</td>\n",
       "      <td>1</td>\n",
       "      <td>1</td>\n",
       "      <td>1.0</td>\n",
       "      <td>0.15</td>\n",
       "      <td>1.67</td>\n",
       "      <td>2.31</td>\n",
       "      <td>4.11</td>\n",
       "    </tr>\n",
       "    <tr>\n",
       "      <th>3</th>\n",
       "      <td>3</td>\n",
       "      <td>0.09</td>\n",
       "      <td>61</td>\n",
       "      <td>48</td>\n",
       "      <td>1</td>\n",
       "      <td>54.5</td>\n",
       "      <td>13</td>\n",
       "      <td>5</td>\n",
       "      <td>2</td>\n",
       "      <td>0.0</td>\n",
       "      <td>0.00</td>\n",
       "      <td>0.15</td>\n",
       "      <td>0.81</td>\n",
       "      <td>2.72</td>\n",
       "    </tr>\n",
       "    <tr>\n",
       "      <th>4</th>\n",
       "      <td>4</td>\n",
       "      <td>0.04</td>\n",
       "      <td>69</td>\n",
       "      <td>54</td>\n",
       "      <td>1</td>\n",
       "      <td>61.5</td>\n",
       "      <td>15</td>\n",
       "      <td>6</td>\n",
       "      <td>2</td>\n",
       "      <td>0.0</td>\n",
       "      <td>0.00</td>\n",
       "      <td>0.66</td>\n",
       "      <td>1.97</td>\n",
       "      <td>2.42</td>\n",
       "    </tr>\n",
       "  </tbody>\n",
       "</table>\n",
       "</div>"
      ],
      "text/plain": [
       "   Id  PRCP  TMAX  TMIN  RAIN  TMIDR  TRANGE  MONTH  SEASON  YEST_RAIN  \\\n",
       "0   0  0.00    49    37     0   43.0      12      2       1        0.0   \n",
       "1   1  0.25    63    56     1   59.5       7      9       3        0.0   \n",
       "2   2  0.11    50    38     1   44.0      12      1       1        1.0   \n",
       "3   3  0.09    61    48     1   54.5      13      5       2        0.0   \n",
       "4   4  0.04    69    54     1   61.5      15      6       2        0.0   \n",
       "\n",
       "   YEST_PRCP  SUM7_PRCP  SUM14_PRCP  SUM30_PRCP  \n",
       "0       0.00       0.20        0.87        2.33  \n",
       "1       0.00       0.25        0.30        0.73  \n",
       "2       0.15       1.67        2.31        4.11  \n",
       "3       0.00       0.15        0.81        2.72  \n",
       "4       0.00       0.66        1.97        2.42  "
      ]
     },
     "execution_count": 4,
     "metadata": {},
     "output_type": "execute_result"
    }
   ],
   "source": [
    "test_data.head()"
   ]
  },
  {
   "cell_type": "code",
   "execution_count": 5,
   "metadata": {},
   "outputs": [
    {
     "data": {
      "text/plain": [
       "18964"
      ]
     },
     "execution_count": 5,
     "metadata": {},
     "output_type": "execute_result"
    }
   ],
   "source": [
    "len(rain_data)"
   ]
  },
  {
   "cell_type": "code",
   "execution_count": 6,
   "metadata": {},
   "outputs": [
    {
     "data": {
      "text/plain": [
       "<matplotlib.collections.PathCollection at 0x21486c34fd0>"
      ]
     },
     "execution_count": 6,
     "metadata": {},
     "output_type": "execute_result"
    },
    {
     "data": {
      "image/png": "[encoded data removed]",
      "text/plain": [
       "<Figure size 432x288 with 1 Axes>"
      ]
     },
     "metadata": {
      "needs_background": "light"
     },
     "output_type": "display_data"
    }
   ],
   "source": [
    "plt.scatter(rain_data['TMAX'], rain_data['TMIN'])"
   ]
  },
  {
   "cell_type": "code",
   "execution_count": 73,
   "metadata": {},
   "outputs": [],
   "source": [
    "from sklearn.utils import shuffle\n",
    "val_data_2 = shuffle(rain_data)"
   ]
  },
  {
   "cell_type": "markdown",
   "metadata": {},
   "source": [
    "## Set-up up for creating models"
   ]
  },
  {
   "cell_type": "code",
   "execution_count": 3,
   "metadata": {},
   "outputs": [],
   "source": [
    "features = ['TMAX', 'TMIN', 'TMIDR', 'RAIN', 'MONTH', 'SEASON', 'YEST_RAIN', 'PRCP', 'YEST_PRCP', 'TRANGE', 'SUM7_PRCP', 'SUM14_PRCP']\n",
    "target = 'TMRW_RAIN'"
   ]
  },
  {
   "cell_type": "code",
   "execution_count": 55,
   "metadata": {},
   "outputs": [],
   "source": [
    "# I used 20% of the train dataset to creat the validation dataset\n",
    "from sklearn.model_selection import train_test_split\n",
    "\n",
    "train_data, validation_data = train_test_split(rain_data, test_size=0.21, random_state=0)"
   ]
  },
  {
   "cell_type": "markdown",
   "metadata": {},
   "source": [
    "## Model 1: Linear Regression"
   ]
  },
  {
   "cell_type": "code",
   "execution_count": 5,
   "metadata": {},
   "outputs": [],
   "source": [
    "from sklearn.linear_model import LinearRegression\n",
    "lr_model = LinearRegression().fit(train_data[features], train_data[target])"
   ]
  },
  {
   "cell_type": "code",
   "execution_count": 6,
   "metadata": {},
   "outputs": [
    {
     "data": {
      "text/plain": [
       "0.7118375955707883"
      ]
     },
     "execution_count": 6,
     "metadata": {},
     "output_type": "execute_result"
    }
   ],
   "source": [
    "from sklearn.metrics import accuracy_score\n",
    "\n",
    "lr_val_predictions = lr_model.predict(validation_data[features])\n",
    "lr_val_predictions = abs(np.round(lr_val_predictions, 0))\n",
    "\n",
    "accuracy_score(validation_data[target], lr_val_predictions)"
   ]
  },
  {
   "cell_type": "markdown",
   "metadata": {},
   "source": [
    "Typically Linear Regression would not be used for a classification problem since it is highly likely that it will produce predictions that cannot be treated as binary values; however, given the features that I focused on I believe that a linear relation can be noticed between most of the columns hence I have reason to believe the existence of correlation between the predictors. Rounding the predictions to whole numbers allows us to treat them as binary and offers surprsingly accurate results on the validation data. However, due to having few features there is a good chance of overfitting."
   ]
  },
  {
   "cell_type": "markdown",
   "metadata": {},
   "source": [
    "## Model 2: Boosting"
   ]
  },
  {
   "cell_type": "code",
   "execution_count": 7,
   "metadata": {},
   "outputs": [],
   "source": [
    "from sklearn.ensemble import AdaBoostClassifier\n",
    "ab_model = AdaBoostClassifier(n_estimators=100, random_state=0).fit(train_data[features], train_data[target])"
   ]
  },
  {
   "cell_type": "code",
   "execution_count": 8,
   "metadata": {},
   "outputs": [
    {
     "data": {
      "text/plain": [
       "0.7223833377273926"
      ]
     },
     "execution_count": 8,
     "metadata": {},
     "output_type": "execute_result"
    }
   ],
   "source": [
    "ab_val_predictions = ab_model.predict(validation_data[features])\n",
    "accuracy_score(validation_data[target], ab_val_predictions)"
   ]
  },
  {
   "cell_type": "markdown",
   "metadata": {},
   "source": [
    "Next I decided to use Adaptive Boosting with the hopes of using the lack of apparent outliers and building upon weak predictions to come up with a strong model. I ended up using 50 estimators after testing multiple values and seeing their accuracy as well as the ROC curve that they produce."
   ]
  },
  {
   "cell_type": "markdown",
   "metadata": {},
   "source": [
    "## Model 3: Logistic Regression"
   ]
  },
  {
   "cell_type": "code",
   "execution_count": 9,
   "metadata": {},
   "outputs": [
    {
     "name": "stderr",
     "output_type": "stream",
     "text": [
      "C:\\Users\\Akshat\\Anaconda3\\lib\\site-packages\\sklearn\\linear_model\\logistic.py:433: FutureWarning: Default solver will be changed to 'lbfgs' in 0.22. Specify a solver to silence this warning.\n",
      "  FutureWarning)\n"
     ]
    },
    {
     "data": {
      "text/plain": [
       "array([[-0.02172834,  0.00813347, -0.00679743,  0.95362148,  0.04268886,\n",
       "        -0.16499407,  0.13572905,  1.18433021, -0.07376054, -0.02986181,\n",
       "         0.08953042,  0.02703713]])"
      ]
     },
     "execution_count": 9,
     "metadata": {},
     "output_type": "execute_result"
    }
   ],
   "source": [
    "from sklearn.linear_model import LogisticRegression\n",
    "logr_model = LogisticRegression(penalty='l2', random_state = 1, C = 100).fit(train_data[features], train_data[target])\n",
    "logr_model.coef_"
   ]
  },
  {
   "cell_type": "code",
   "execution_count": 10,
   "metadata": {},
   "outputs": [
    {
     "data": {
      "text/plain": [
       "0.7097752290554347"
      ]
     },
     "execution_count": 10,
     "metadata": {},
     "output_type": "execute_result"
    }
   ],
   "source": [
    "logr_train_predictions = logr_model.predict(train_data[features])\n",
    "accuracy_score(train_data[target], logr_train_predictions)"
   ]
  },
  {
   "cell_type": "code",
   "execution_count": 11,
   "metadata": {},
   "outputs": [
    {
     "data": {
      "text/plain": [
       "0.7139467440021091"
      ]
     },
     "execution_count": 11,
     "metadata": {},
     "output_type": "execute_result"
    }
   ],
   "source": [
    "logr_val_predictions = logr_model.predict(validation_data[features])\n",
    "accuracy_score(validation_data[target], logr_val_predictions)"
   ]
  },
  {
   "cell_type": "markdown",
   "metadata": {},
   "source": [
    "Next I used Logistic Regression since it is the primary classification model that I have worked with and it is relatively simple to use. It also helped me eliminate predictors that were not very useful such as the sums of precipitation."
   ]
  },
  {
   "cell_type": "markdown",
   "metadata": {},
   "source": [
    "## Model 4: Decision Tree/Random Forest"
   ]
  },
  {
   "cell_type": "code",
   "execution_count": 12,
   "metadata": {},
   "outputs": [],
   "source": [
    "from sklearn.tree import DecisionTreeClassifier\n",
    "decision_tree_model = DecisionTreeClassifier(max_depth=5,random_state=0).fit(train_data[features], train_data[target])"
   ]
  },
  {
   "cell_type": "code",
   "execution_count": 13,
   "metadata": {},
   "outputs": [
    {
     "data": {
      "text/plain": [
       "0.723437911943053"
      ]
     },
     "execution_count": 13,
     "metadata": {},
     "output_type": "execute_result"
    }
   ],
   "source": [
    "dt_val_predictions = decision_tree_model.predict(validation_data[features])\n",
    "accuracy_score(validation_data[target], dt_val_predictions)"
   ]
  },
  {
   "cell_type": "code",
   "execution_count": 71,
   "metadata": {},
   "outputs": [
    {
     "name": "stderr",
     "output_type": "stream",
     "text": [
      "C:\\Users\\Akshat\\Anaconda3\\lib\\site-packages\\sklearn\\ensemble\\forest.py:246: FutureWarning: The default value of n_estimators will change from 10 in version 0.20 to 100 in 0.22.\n",
      "  \"10 in version 0.20 to 100 in 0.22.\", FutureWarning)\n"
     ]
    }
   ],
   "source": [
    "from sklearn.ensemble import RandomForestClassifier\n",
    "randf_model = RandomForestClassifier(max_depth=7, random_state=0, criterion='entropy', min_samples_leaf=5).fit(train_data[features], train_data[target])"
   ]
  },
  {
   "cell_type": "code",
   "execution_count": 72,
   "metadata": {},
   "outputs": [
    {
     "data": {
      "text/plain": [
       "0.7233241275420538"
      ]
     },
     "execution_count": 72,
     "metadata": {},
     "output_type": "execute_result"
    }
   ],
   "source": [
    "randf_val_predictions = randf_model.predict(validation_data[features])\n",
    "accuracy_score(validation_data[target], randf_val_predictions)"
   ]
  },
  {
   "cell_type": "code",
   "execution_count": 90,
   "metadata": {},
   "outputs": [
    {
     "data": {
      "text/plain": [
       "0.7220687923675622"
      ]
     },
     "execution_count": 90,
     "metadata": {},
     "output_type": "execute_result"
    }
   ],
   "source": [
    "from sklearn.ensemble import VotingClassifier\n",
    "rr = VotingClassifier(estimators=[('ab', ab_model), ('dt', decision_tree_model), ('rf', randf_model)]).fit(train_data[features], train_data[target])\n",
    "rr_pred = rr.predict(validation_data[features])\n",
    "accuracy_score(validation_data[target], rr_pred)"
   ]
  },
  {
   "cell_type": "markdown",
   "metadata": {},
   "source": [
    "Using decision trees with a max_depth of 7 allows for efficient splitting of data. It also helps to make good use of the categorical data provided in the dataset. Next, using a random forest allows for using multiple trees to form a collective prediction which provides us with the highest accuracy from all the methods used."
   ]
  },
  {
   "cell_type": "markdown",
   "metadata": {},
   "source": [
    "## Model 5: Neural Net"
   ]
  },
  {
   "cell_type": "code",
   "execution_count": 16,
   "metadata": {},
   "outputs": [],
   "source": [
    "from sklearn.neural_network import MLPClassifier\n",
    "nn_model = MLPClassifier(hidden_layer_sizes=25, random_state=0).fit(train_data[features], train_data[target])"
   ]
  },
  {
   "cell_type": "code",
   "execution_count": 17,
   "metadata": {},
   "outputs": [
    {
     "data": {
      "text/plain": [
       "0.7168468230951753"
      ]
     },
     "execution_count": 17,
     "metadata": {},
     "output_type": "execute_result"
    }
   ],
   "source": [
    "nn_val_predictions = nn_model.predict(validation_data[features])\n",
    "accuracy_score(validation_data[target], nn_val_predictions)"
   ]
  },
  {
   "cell_type": "code",
   "execution_count": 43,
   "metadata": {},
   "outputs": [
    {
     "data": {
      "text/plain": [
       "{'hidden_layer_sizes': 25}"
      ]
     },
     "execution_count": 43,
     "metadata": {},
     "output_type": "execute_result"
    }
   ],
   "source": [
    "from sklearn.model_selection import GridSearchCV\n",
    "hyperparameters = {'hidden_layer_sizes':[5, 10, 20, 25, 30, 25]}\n",
    "search = GridSearchCV(MLPClassifier(), hyperparameters, cv=6, return_train_score=True).fit(train_data[features], train_data[target])\n",
    "search.best_params_"
   ]
  },
  {
   "cell_type": "markdown",
   "metadata": {},
   "source": [
    "While it can be hard to interpret neural nets, they also provide a high quality of adaptive learning while optimizng the solution as it works while also minimizing bias. Using a relatively small layer size due to there not being many features allowed the gradient descent algorithm that it is based on to provide accurate results."
   ]
  },
  {
   "cell_type": "markdown",
   "metadata": {},
   "source": [
    "## ROC plot and creating submission"
   ]
  },
  {
   "cell_type": "code",
   "execution_count": 18,
   "metadata": {},
   "outputs": [
    {
     "data": {
      "text/plain": [
       "<matplotlib.legend.Legend at 0x20f7e3b4630>"
      ]
     },
     "execution_count": 18,
     "metadata": {},
     "output_type": "execute_result"
    },
    {
     "data": {
      "image/png": "[encoded data removed]",
      "text/plain": [
       "<Figure size 432x288 with 1 Axes>"
      ]
     },
     "metadata": {
      "needs_background": "light"
     },
     "output_type": "display_data"
    }
   ],
   "source": [
    "import sklearn.metrics as metrics\n",
    "\n",
    "probs = randf_model.predict_proba(validation_data[features])[:,1]\n",
    "fprs, tprs, thresholds = metrics.roc_curve(validation_data[target], probs)\n",
    "\n",
    "probs2 = decision_tree_model.predict_proba(validation_data[features])[:,1]\n",
    "fprs2, tprs2, thresholds2 = metrics.roc_curve(validation_data[target], probs2)\n",
    "\n",
    "probs3 = ab_model.predict_proba(validation_data[features])[:,1]\n",
    "fprs3, tprs3, thresholds3 = metrics.roc_curve(validation_data[target], probs3)\n",
    "\n",
    "probs4 = logr_model.predict_proba(validation_data[features])[:,1]\n",
    "fprs4, tprs4, thresholds4 = metrics.roc_curve(validation_data[target], probs4)\n",
    "\n",
    "probs5 = nn_model.predict_proba(validation_data[features])[:,1]\n",
    "fprs5, tprs5, thresholds5 = metrics.roc_curve(validation_data[target], probs5)\n",
    "\n",
    "plt.plot(fprs, tprs, '--', color='green', label='Random Forest')\n",
    "plt.plot(fprs2, tprs2, '--', color='yellow', label='Decision Tree')\n",
    "plt.plot(fprs3, tprs3, '--', color='blue', label='Adaptive Boosting')\n",
    "plt.plot(fprs4, tprs4, '--', color='orange', label='Logistic Regression')\n",
    "plt.plot(fprs5, tprs5, '--', color='purple', label='Neural Net')\n",
    "plt.xlabel('False Positive Rate')\n",
    "plt.ylabel('True Positive Rate')\n",
    "plt.title('ROC Curve for different classifying curves')\n",
    "plt.legend(loc='lower right')"
   ]
  },
  {
   "cell_type": "code",
   "execution_count": 19,
   "metadata": {},
   "outputs": [
    {
     "data": {
      "text/plain": [
       "array([0, 1, 1, ..., 0, 0, 0])"
      ]
     },
     "execution_count": 19,
     "metadata": {},
     "output_type": "execute_result"
    }
   ],
   "source": [
    "randf_val_predictions.astype(int)"
   ]
  },
  {
   "cell_type": "code",
   "execution_count": 20,
   "metadata": {},
   "outputs": [
    {
     "data": {
      "text/plain": [
       "array([0., 1., 1., ..., 0., 0., 1.])"
      ]
     },
     "execution_count": 20,
     "metadata": {},
     "output_type": "execute_result"
    }
   ],
   "source": [
    "randf_test_predictions = randf_model.predict(test_data[features])\n",
    "randf_test_predictions"
   ]
  },
  {
   "cell_type": "code",
   "execution_count": 21,
   "metadata": {},
   "outputs": [],
   "source": [
    "predictions = randf_test_predictions.astype(int)\n",
    "to_save = test_data[['Id']].copy()\n",
    "to_save.loc[:, 'Category'] = predictions\n",
    "to_save.to_csv('submission.csv', index=False)"
   ]
  }
 ],
 "metadata": {
  "kernelspec": {
   "display_name": "Python 3",
   "language": "python",
   "name": "python3"
  },
  "language_info": {
   "codemirror_mode": {
    "name": "ipython",
    "version": 3
   },
   "file_extension": ".py",
   "mimetype": "text/x-python",
   "name": "python",
   "nbconvert_exporter": "python",
   "pygments_lexer": "ipython3",
   "version": "3.7.1"
  }
 },
 "nbformat": 4,
 "nbformat_minor": 2
}
