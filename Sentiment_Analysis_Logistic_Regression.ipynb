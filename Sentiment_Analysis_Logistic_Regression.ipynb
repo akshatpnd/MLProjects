{
 "cells": [
  {
   "cell_type": "code",
   "execution_count": 1,
   "metadata": {
    "colab": {
     "base_uri": "https://localhost:8080/",
     "height": 71
    },
    "colab_type": "code",
    "id": "oI0Mi7T7oKH7",
    "outputId": "9743e8ca-2843-4e25-8167-439f3b62f502"
   },
   "outputs": [],
   "source": [
    "from __future__ import division\n",
    "from sklearn.linear_model import LogisticRegression\n",
    "from sklearn.model_selection import train_test_split\n",
    "from sklearn.feature_extraction import DictVectorizer\n",
    "import pandas as pd\n",
    "import math\n",
    "import string\n",
    "import matplotlib.pyplot as plt\n",
    "import numpy as np\n",
    "import seaborn as sns\n",
    "%matplotlib inline\n",
    "import warnings\n",
    "warnings.filterwarnings('ignore')\n",
    "import os\n",
    "import json\n",
    "import gzip\n",
    "from urllib.request import urlopen"
   ]
  },
  {
   "cell_type": "markdown",
   "metadata": {
    "colab_type": "text",
    "id": "Fy0LtMjloKIA"
   },
   "source": [
    "# Data preparation\n",
    "\n",
    "We will use a dataset consisting of food product reviews on Amazon.com [source](http://jmcauley.ucsd.edu/data/amazon/)."
   ]
  },
  {
   "cell_type": "code",
   "execution_count": 2,
   "metadata": {
    "colab": {
     "base_uri": "https://localhost:8080/",
     "height": 71
    },
    "colab_type": "code",
    "id": "gaNi651vQ7G3",
    "outputId": "86844c2f-2cd0-4ef9-b384-e755135c22d3"
   },
   "outputs": [
    {
     "name": "stdout",
     "output_type": "stream",
     "text": [
      "2500\n"
     ]
    },
    {
     "data": {
      "text/plain": [
       "'I found these in a Mitsuwa Marketplace in Illinois.I actually expected them to taste better than the did.  they were okay but seem smaller than standard kit kats and the taste was a tad mild compared to other green tea candies I have tried.But still, they were pleasant enough and nice for a change.'"
      ]
     },
     "execution_count": 2,
     "metadata": {},
     "output_type": "execute_result"
    }
   ],
   "source": [
    "products = pd.read_csv('food_products.csv')\n",
    "print(len(products))\n",
    "products.iloc[1]['review']"
   ]
  },
  {
   "cell_type": "markdown",
   "metadata": {
    "colab_type": "text",
    "id": "38hctA0HoKIC"
   },
   "source": [
    "## Extract sentiments\n",
    "\n",
    "We will **ignore** all reviews with *rating = 3*, since they tend to have a neutral sentiment."
   ]
  },
  {
   "cell_type": "code",
   "execution_count": 3,
   "metadata": {
    "colab": {},
    "colab_type": "code",
    "id": "Qd_21Ur5oKID"
   },
   "outputs": [
    {
     "data": {
      "text/plain": [
       "1729"
      ]
     },
     "execution_count": 3,
     "metadata": {},
     "output_type": "execute_result"
    }
   ],
   "source": [
    "products = products[products['rating'] != 3]\n",
    "len(products)"
   ]
  },
  {
   "cell_type": "code",
   "execution_count": 4,
   "metadata": {
    "colab": {},
    "colab_type": "code",
    "id": "EFWGCzKI6d1S"
   },
   "outputs": [
    {
     "data": {
      "text/plain": [
       "<matplotlib.axes._subplots.AxesSubplot at 0x21b7d6b4a58>"
      ]
     },
     "execution_count": 4,
     "metadata": {},
     "output_type": "execute_result"
    },
    {
     "data": {
      "image/png": "[encoded data removed]",
      "text/plain": [
       "<Figure size 432x288 with 1 Axes>"
      ]
     },
     "metadata": {
      "needs_background": "light"
     },
     "output_type": "display_data"
    }
   ],
   "source": [
    "plt.title('Number of reviews with a given rating')\n",
    "products['rating'].hist()"
   ]
  },
  {
   "cell_type": "markdown",
   "metadata": {
    "colab_type": "text",
    "id": "FcJISX31oKIE"
   },
   "source": [
    "Now, we will assign reviews with a rating of 4 or higher to be *positive* reviews, while the ones with rating of 2 or lower are *negative*. For the sentiment column, we use +1 for the positive class label and -1 for the negative class label."
   ]
  },
  {
   "cell_type": "code",
   "execution_count": 5,
   "metadata": {
    "colab": {},
    "colab_type": "code",
    "id": "M5W5A0_foKIF"
   },
   "outputs": [
    {
     "data": {
      "text/html": [
       "<div>\n",
       "<style scoped>\n",
       "    .dataframe tbody tr th:only-of-type {\n",
       "        vertical-align: middle;\n",
       "    }\n",
       "\n",
       "    .dataframe tbody tr th {\n",
       "        vertical-align: top;\n",
       "    }\n",
       "\n",
       "    .dataframe thead th {\n",
       "        text-align: right;\n",
       "    }\n",
       "</style>\n",
       "<table border=\"1\" class=\"dataframe\">\n",
       "  <thead>\n",
       "    <tr style=\"text-align: right;\">\n",
       "      <th></th>\n",
       "      <th>Unnamed: 0</th>\n",
       "      <th>summary</th>\n",
       "      <th>review</th>\n",
       "      <th>rating</th>\n",
       "      <th>sentiment</th>\n",
       "    </tr>\n",
       "  </thead>\n",
       "  <tbody>\n",
       "    <tr>\n",
       "      <th>2</th>\n",
       "      <td>9</td>\n",
       "      <td>Not a fan</td>\n",
       "      <td>I love green tea, I love Kit Kats, but the two...</td>\n",
       "      <td>1.0</td>\n",
       "      <td>-1</td>\n",
       "    </tr>\n",
       "    <tr>\n",
       "      <th>4</th>\n",
       "      <td>20</td>\n",
       "      <td>Thai curry is the way to go to add spice to an...</td>\n",
       "      <td>So many flavors. I can't begin to tell you how...</td>\n",
       "      <td>5.0</td>\n",
       "      <td>1</td>\n",
       "    </tr>\n",
       "    <tr>\n",
       "      <th>5</th>\n",
       "      <td>28</td>\n",
       "      <td>Delicious</td>\n",
       "      <td>I have tried all the curris from Mae Ploy (exc...</td>\n",
       "      <td>5.0</td>\n",
       "      <td>1</td>\n",
       "    </tr>\n",
       "    <tr>\n",
       "      <th>7</th>\n",
       "      <td>32</td>\n",
       "      <td>Not natural/organic at all</td>\n",
       "      <td>This product is no where near natural / organi...</td>\n",
       "      <td>1.0</td>\n",
       "      <td>-1</td>\n",
       "    </tr>\n",
       "    <tr>\n",
       "      <th>9</th>\n",
       "      <td>46</td>\n",
       "      <td>They work well enough.</td>\n",
       "      <td>There's a vague taste of apple cinnamon, but m...</td>\n",
       "      <td>4.0</td>\n",
       "      <td>1</td>\n",
       "    </tr>\n",
       "    <tr>\n",
       "      <th>11</th>\n",
       "      <td>49</td>\n",
       "      <td>Lessens the effects of an asthma attack</td>\n",
       "      <td>If my wife drinks a cup of this tea when she f...</td>\n",
       "      <td>5.0</td>\n",
       "      <td>1</td>\n",
       "    </tr>\n",
       "    <tr>\n",
       "      <th>13</th>\n",
       "      <td>54</td>\n",
       "      <td>Dark Chocolate Toffee Nut - fantastic flavor! ...</td>\n",
       "      <td>I really enjoy PowerBar ProteinPlus bars - but...</td>\n",
       "      <td>5.0</td>\n",
       "      <td>1</td>\n",
       "    </tr>\n",
       "    <tr>\n",
       "      <th>15</th>\n",
       "      <td>63</td>\n",
       "      <td>Nostalgia</td>\n",
       "      <td>I was born in the 80's, and this was brought i...</td>\n",
       "      <td>5.0</td>\n",
       "      <td>1</td>\n",
       "    </tr>\n",
       "    <tr>\n",
       "      <th>16</th>\n",
       "      <td>65</td>\n",
       "      <td>great</td>\n",
       "      <td>my niece teaches underprivileged kids in flori...</td>\n",
       "      <td>5.0</td>\n",
       "      <td>1</td>\n",
       "    </tr>\n",
       "    <tr>\n",
       "      <th>17</th>\n",
       "      <td>75</td>\n",
       "      <td>Not soft at all. Basically same as cheap licor...</td>\n",
       "      <td>Licorice is my favorite candy, and it promotes...</td>\n",
       "      <td>1.0</td>\n",
       "      <td>-1</td>\n",
       "    </tr>\n",
       "    <tr>\n",
       "      <th>18</th>\n",
       "      <td>81</td>\n",
       "      <td>Panda licorice</td>\n",
       "      <td>Panda licorice, There is not too much I can sa...</td>\n",
       "      <td>5.0</td>\n",
       "      <td>1</td>\n",
       "    </tr>\n",
       "    <tr>\n",
       "      <th>19</th>\n",
       "      <td>82</td>\n",
       "      <td>Love this candy!</td>\n",
       "      <td>This is an awesome product, natural, not a lot...</td>\n",
       "      <td>1.0</td>\n",
       "      <td>-1</td>\n",
       "    </tr>\n",
       "    <tr>\n",
       "      <th>20</th>\n",
       "      <td>85</td>\n",
       "      <td>NOT gluten free</td>\n",
       "      <td>As soon as I had a couple of sips, my eczema s...</td>\n",
       "      <td>1.0</td>\n",
       "      <td>-1</td>\n",
       "    </tr>\n",
       "    <tr>\n",
       "      <th>22</th>\n",
       "      <td>94</td>\n",
       "      <td>Good stuff</td>\n",
       "      <td>This was good stuff but I just went thru it to...</td>\n",
       "      <td>5.0</td>\n",
       "      <td>1</td>\n",
       "    </tr>\n",
       "    <tr>\n",
       "      <th>26</th>\n",
       "      <td>105</td>\n",
       "      <td>Great purchase</td>\n",
       "      <td>I have been intrigued by the pour over coffee ...</td>\n",
       "      <td>5.0</td>\n",
       "      <td>1</td>\n",
       "    </tr>\n",
       "    <tr>\n",
       "      <th>27</th>\n",
       "      <td>119</td>\n",
       "      <td>Really vibrant colors for just a little dye</td>\n",
       "      <td>Yeah, this dye is tasteless as advertised!  I ...</td>\n",
       "      <td>5.0</td>\n",
       "      <td>1</td>\n",
       "    </tr>\n",
       "    <tr>\n",
       "      <th>28</th>\n",
       "      <td>122</td>\n",
       "      <td>A bit pricey, but cool if you're into cake dec...</td>\n",
       "      <td>A bit pricey, but a little goes a long way.  A...</td>\n",
       "      <td>4.0</td>\n",
       "      <td>1</td>\n",
       "    </tr>\n",
       "    <tr>\n",
       "      <th>29</th>\n",
       "      <td>134</td>\n",
       "      <td>Ingredients are unhealthy</td>\n",
       "      <td>No way would I put the vast majority of the in...</td>\n",
       "      <td>2.0</td>\n",
       "      <td>-1</td>\n",
       "    </tr>\n",
       "    <tr>\n",
       "      <th>30</th>\n",
       "      <td>146</td>\n",
       "      <td>Cinnamon Licorice powder</td>\n",
       "      <td>this stuff is a poor example of an authentic 5...</td>\n",
       "      <td>2.0</td>\n",
       "      <td>-1</td>\n",
       "    </tr>\n",
       "    <tr>\n",
       "      <th>31</th>\n",
       "      <td>149</td>\n",
       "      <td>Fabulous</td>\n",
       "      <td>I tried to find this spice and was unsuccessfu...</td>\n",
       "      <td>5.0</td>\n",
       "      <td>1</td>\n",
       "    </tr>\n",
       "  </tbody>\n",
       "</table>\n",
       "</div>"
      ],
      "text/plain": [
       "    Unnamed: 0                                            summary  \\\n",
       "2            9                                          Not a fan   \n",
       "4           20  Thai curry is the way to go to add spice to an...   \n",
       "5           28                                          Delicious   \n",
       "7           32                         Not natural/organic at all   \n",
       "9           46                             They work well enough.   \n",
       "11          49            Lessens the effects of an asthma attack   \n",
       "13          54  Dark Chocolate Toffee Nut - fantastic flavor! ...   \n",
       "15          63                                          Nostalgia   \n",
       "16          65                                              great   \n",
       "17          75  Not soft at all. Basically same as cheap licor...   \n",
       "18          81                                     Panda licorice   \n",
       "19          82                                   Love this candy!   \n",
       "20          85                                    NOT gluten free   \n",
       "22          94                                         Good stuff   \n",
       "26         105                                     Great purchase   \n",
       "27         119        Really vibrant colors for just a little dye   \n",
       "28         122  A bit pricey, but cool if you're into cake dec...   \n",
       "29         134                          Ingredients are unhealthy   \n",
       "30         146                           Cinnamon Licorice powder   \n",
       "31         149                                           Fabulous   \n",
       "\n",
       "                                               review  rating  sentiment  \n",
       "2   I love green tea, I love Kit Kats, but the two...     1.0         -1  \n",
       "4   So many flavors. I can't begin to tell you how...     5.0          1  \n",
       "5   I have tried all the curris from Mae Ploy (exc...     5.0          1  \n",
       "7   This product is no where near natural / organi...     1.0         -1  \n",
       "9   There's a vague taste of apple cinnamon, but m...     4.0          1  \n",
       "11  If my wife drinks a cup of this tea when she f...     5.0          1  \n",
       "13  I really enjoy PowerBar ProteinPlus bars - but...     5.0          1  \n",
       "15  I was born in the 80's, and this was brought i...     5.0          1  \n",
       "16  my niece teaches underprivileged kids in flori...     5.0          1  \n",
       "17  Licorice is my favorite candy, and it promotes...     1.0         -1  \n",
       "18  Panda licorice, There is not too much I can sa...     5.0          1  \n",
       "19  This is an awesome product, natural, not a lot...     1.0         -1  \n",
       "20  As soon as I had a couple of sips, my eczema s...     1.0         -1  \n",
       "22  This was good stuff but I just went thru it to...     5.0          1  \n",
       "26  I have been intrigued by the pour over coffee ...     5.0          1  \n",
       "27  Yeah, this dye is tasteless as advertised!  I ...     5.0          1  \n",
       "28  A bit pricey, but a little goes a long way.  A...     4.0          1  \n",
       "29  No way would I put the vast majority of the in...     2.0         -1  \n",
       "30  this stuff is a poor example of an authentic 5...     2.0         -1  \n",
       "31  I tried to find this spice and was unsuccessfu...     5.0          1  "
      ]
     },
     "execution_count": 5,
     "metadata": {},
     "output_type": "execute_result"
    }
   ],
   "source": [
    "products['sentiment'] = products['rating'].apply(lambda rating : +1 if rating > 3 else -1)\n",
    "products[0:20]"
   ]
  },
  {
   "cell_type": "markdown",
   "metadata": {
    "colab_type": "text",
    "id": "e0nuFuVEoKIG"
   },
   "source": [
    "Now, we can see that the dataset contains an extra column called **sentiment** which is either positive (+1) or negative (-1)."
   ]
  },
  {
   "cell_type": "markdown",
   "metadata": {
    "colab_type": "text",
    "id": "y6O8Q5_1oKIH"
   },
   "source": [
    "## Build the word count vector for each review"
   ]
  },
  {
   "cell_type": "markdown",
   "metadata": {
    "colab_type": "text",
    "id": "4YerX_aloKIH"
   },
   "source": [
    "Let us explore a specific example of a food product."
   ]
  },
  {
   "cell_type": "code",
   "execution_count": 6,
   "metadata": {
    "colab": {},
    "colab_type": "code",
    "id": "LG6I0CV5oKII"
   },
   "outputs": [
    {
     "data": {
      "text/plain": [
       "Unnamed: 0                                                  162\n",
       "summary                                                Not good\n",
       "review        unsure if I just got a bad batch or what...the...\n",
       "rating                                                        1\n",
       "sentiment                                                    -1\n",
       "Name: 37, dtype: object"
      ]
     },
     "execution_count": 6,
     "metadata": {},
     "output_type": "execute_result"
    }
   ],
   "source": [
    "products.iloc[21]"
   ]
  },
  {
   "cell_type": "markdown",
   "metadata": {
    "colab_type": "text",
    "id": "H3PE8muToKIJ"
   },
   "source": [
    "Now, we will perform 2 simple data transformations:\n",
    "\n",
    "1. Remove punctuation using [Python's built-in](https://docs.python.org/2/library/string.html) string functionality.\n",
    "2. Transform the reviews into word-counts.\n"
   ]
  },
  {
   "cell_type": "code",
   "execution_count": 7,
   "metadata": {
    "colab": {},
    "colab_type": "code",
    "id": "_3MS9d_ioKIK"
   },
   "outputs": [],
   "source": [
    "def remove_punctuation(text):\n",
    "    if type(text) != str:\n",
    "        return ''\n",
    "    return text.translate(str.maketrans('', '', string.punctuation))\n",
    "\n",
    "products['review_clean'] = products['review'].apply(remove_punctuation)"
   ]
  },
  {
   "cell_type": "markdown",
   "metadata": {
    "colab_type": "text",
    "id": "_gO-Aky6oKIN"
   },
   "source": [
    "Now, let us explore what the sample example above looks like after these 2 transformations."
   ]
  },
  {
   "cell_type": "code",
   "execution_count": 8,
   "metadata": {
    "colab": {},
    "colab_type": "code",
    "id": "8XIKsds4oKIR"
   },
   "outputs": [],
   "source": [
    "word_count = []\n",
    "\n",
    "for i in range(0,len(products)):\n",
    "    word_count_dict = {}\n",
    "    review_clean = products['review_clean'].iloc[i]\n",
    "    review_clean = review_clean.split(' ')\n",
    "    for word in review_clean:\n",
    "        if word in word_count_dict.keys():\n",
    "            word_count_dict[word] += 1\n",
    "        else:\n",
    "            word_count_dict[word] = 1\n",
    "    word_count.append(word_count_dict)\n",
    "\n",
    "products['word_count'] = word_count"
   ]
  },
  {
   "cell_type": "code",
   "execution_count": 9,
   "metadata": {
    "colab": {},
    "colab_type": "code",
    "id": "3evm92C2oKIW"
   },
   "outputs": [],
   "source": [
    "# Create a DictVectorizer and create vectors for these dictionaries\n",
    "dictVectorizer = DictVectorizer()\n",
    "features_Frame = dictVectorizer.fit_transform(products['word_count'])"
   ]
  },
  {
   "cell_type": "code",
   "execution_count": 10,
   "metadata": {
    "colab": {},
    "colab_type": "code",
    "id": "O71CCFy8oKIY"
   },
   "outputs": [
    {
     "data": {
      "text/html": [
       "<div>\n",
       "<style scoped>\n",
       "    .dataframe tbody tr th:only-of-type {\n",
       "        vertical-align: middle;\n",
       "    }\n",
       "\n",
       "    .dataframe tbody tr th {\n",
       "        vertical-align: top;\n",
       "    }\n",
       "\n",
       "    .dataframe thead th {\n",
       "        text-align: right;\n",
       "    }\n",
       "</style>\n",
       "<table border=\"1\" class=\"dataframe\">\n",
       "  <thead>\n",
       "    <tr style=\"text-align: right;\">\n",
       "      <th></th>\n",
       "      <th>0</th>\n",
       "      <th>1</th>\n",
       "      <th>2</th>\n",
       "      <th>3</th>\n",
       "      <th>4</th>\n",
       "      <th>5</th>\n",
       "      <th>6</th>\n",
       "      <th>7</th>\n",
       "      <th>8</th>\n",
       "      <th>9</th>\n",
       "      <th>...</th>\n",
       "      <th>13745</th>\n",
       "      <th>13746</th>\n",
       "      <th>13747</th>\n",
       "      <th>13748</th>\n",
       "      <th>13749</th>\n",
       "      <th>13750</th>\n",
       "      <th>13751</th>\n",
       "      <th>sentiment</th>\n",
       "      <th>review_clean</th>\n",
       "      <th>summary</th>\n",
       "    </tr>\n",
       "  </thead>\n",
       "  <tbody>\n",
       "    <tr>\n",
       "      <th>0</th>\n",
       "      <td>0.0</td>\n",
       "      <td>0.0</td>\n",
       "      <td>0.0</td>\n",
       "      <td>0.0</td>\n",
       "      <td>0.0</td>\n",
       "      <td>0.0</td>\n",
       "      <td>0.0</td>\n",
       "      <td>0.0</td>\n",
       "      <td>0.0</td>\n",
       "      <td>0.0</td>\n",
       "      <td>...</td>\n",
       "      <td>0.0</td>\n",
       "      <td>0.0</td>\n",
       "      <td>0.0</td>\n",
       "      <td>0.0</td>\n",
       "      <td>0.0</td>\n",
       "      <td>0.0</td>\n",
       "      <td>0.0</td>\n",
       "      <td>-1</td>\n",
       "      <td>I love green tea I love Kit Kats but the two d...</td>\n",
       "      <td>Not a fan</td>\n",
       "    </tr>\n",
       "    <tr>\n",
       "      <th>1</th>\n",
       "      <td>1.0</td>\n",
       "      <td>0.0</td>\n",
       "      <td>0.0</td>\n",
       "      <td>0.0</td>\n",
       "      <td>0.0</td>\n",
       "      <td>0.0</td>\n",
       "      <td>0.0</td>\n",
       "      <td>0.0</td>\n",
       "      <td>0.0</td>\n",
       "      <td>0.0</td>\n",
       "      <td>...</td>\n",
       "      <td>0.0</td>\n",
       "      <td>0.0</td>\n",
       "      <td>0.0</td>\n",
       "      <td>0.0</td>\n",
       "      <td>0.0</td>\n",
       "      <td>0.0</td>\n",
       "      <td>0.0</td>\n",
       "      <td>1</td>\n",
       "      <td>So many flavors I cant begin to tell you how m...</td>\n",
       "      <td>Thai curry is the way to go to add spice to an...</td>\n",
       "    </tr>\n",
       "    <tr>\n",
       "      <th>2</th>\n",
       "      <td>0.0</td>\n",
       "      <td>0.0</td>\n",
       "      <td>0.0</td>\n",
       "      <td>0.0</td>\n",
       "      <td>0.0</td>\n",
       "      <td>0.0</td>\n",
       "      <td>0.0</td>\n",
       "      <td>0.0</td>\n",
       "      <td>0.0</td>\n",
       "      <td>0.0</td>\n",
       "      <td>...</td>\n",
       "      <td>0.0</td>\n",
       "      <td>0.0</td>\n",
       "      <td>0.0</td>\n",
       "      <td>0.0</td>\n",
       "      <td>0.0</td>\n",
       "      <td>0.0</td>\n",
       "      <td>0.0</td>\n",
       "      <td>1</td>\n",
       "      <td>I have tried all the curris from Mae Ploy excl...</td>\n",
       "      <td>Delicious</td>\n",
       "    </tr>\n",
       "    <tr>\n",
       "      <th>3</th>\n",
       "      <td>1.0</td>\n",
       "      <td>0.0</td>\n",
       "      <td>0.0</td>\n",
       "      <td>0.0</td>\n",
       "      <td>0.0</td>\n",
       "      <td>0.0</td>\n",
       "      <td>0.0</td>\n",
       "      <td>0.0</td>\n",
       "      <td>0.0</td>\n",
       "      <td>0.0</td>\n",
       "      <td>...</td>\n",
       "      <td>0.0</td>\n",
       "      <td>0.0</td>\n",
       "      <td>0.0</td>\n",
       "      <td>0.0</td>\n",
       "      <td>0.0</td>\n",
       "      <td>0.0</td>\n",
       "      <td>0.0</td>\n",
       "      <td>-1</td>\n",
       "      <td>This product is no where near natural  organic...</td>\n",
       "      <td>Not natural/organic at all</td>\n",
       "    </tr>\n",
       "    <tr>\n",
       "      <th>4</th>\n",
       "      <td>0.0</td>\n",
       "      <td>0.0</td>\n",
       "      <td>0.0</td>\n",
       "      <td>0.0</td>\n",
       "      <td>0.0</td>\n",
       "      <td>0.0</td>\n",
       "      <td>0.0</td>\n",
       "      <td>0.0</td>\n",
       "      <td>0.0</td>\n",
       "      <td>0.0</td>\n",
       "      <td>...</td>\n",
       "      <td>0.0</td>\n",
       "      <td>0.0</td>\n",
       "      <td>0.0</td>\n",
       "      <td>0.0</td>\n",
       "      <td>0.0</td>\n",
       "      <td>0.0</td>\n",
       "      <td>0.0</td>\n",
       "      <td>1</td>\n",
       "      <td>Theres a vague taste of apple cinnamon but mos...</td>\n",
       "      <td>They work well enough.</td>\n",
       "    </tr>\n",
       "  </tbody>\n",
       "</table>\n",
       "<p>5 rows × 13755 columns</p>\n",
       "</div>"
      ],
      "text/plain": [
       "     0    1    2    3    4    5    6    7    8    9  \\\n",
       "0  0.0  0.0  0.0  0.0  0.0  0.0  0.0  0.0  0.0  0.0   \n",
       "1  1.0  0.0  0.0  0.0  0.0  0.0  0.0  0.0  0.0  0.0   \n",
       "2  0.0  0.0  0.0  0.0  0.0  0.0  0.0  0.0  0.0  0.0   \n",
       "3  1.0  0.0  0.0  0.0  0.0  0.0  0.0  0.0  0.0  0.0   \n",
       "4  0.0  0.0  0.0  0.0  0.0  0.0  0.0  0.0  0.0  0.0   \n",
       "\n",
       "                         ...                          13745  13746  13747  \\\n",
       "0                        ...                            0.0    0.0    0.0   \n",
       "1                        ...                            0.0    0.0    0.0   \n",
       "2                        ...                            0.0    0.0    0.0   \n",
       "3                        ...                            0.0    0.0    0.0   \n",
       "4                        ...                            0.0    0.0    0.0   \n",
       "\n",
       "   13748  13749  13750  13751  sentiment  \\\n",
       "0    0.0    0.0    0.0    0.0         -1   \n",
       "1    0.0    0.0    0.0    0.0          1   \n",
       "2    0.0    0.0    0.0    0.0          1   \n",
       "3    0.0    0.0    0.0    0.0         -1   \n",
       "4    0.0    0.0    0.0    0.0          1   \n",
       "\n",
       "                                        review_clean  \\\n",
       "0  I love green tea I love Kit Kats but the two d...   \n",
       "1  So many flavors I cant begin to tell you how m...   \n",
       "2  I have tried all the curris from Mae Ploy excl...   \n",
       "3  This product is no where near natural  organic...   \n",
       "4  Theres a vague taste of apple cinnamon but mos...   \n",
       "\n",
       "                                             summary  \n",
       "0                                          Not a fan  \n",
       "1  Thai curry is the way to go to add spice to an...  \n",
       "2                                          Delicious  \n",
       "3                         Not natural/organic at all  \n",
       "4                             They work well enough.  \n",
       "\n",
       "[5 rows x 13755 columns]"
      ]
     },
     "execution_count": 10,
     "metadata": {},
     "output_type": "execute_result"
    }
   ],
   "source": [
    "#  Create a new DataFrame that has all these features as columns plus the sentiment label!\n",
    "product_data = pd.DataFrame(features_Frame.toarray())\n",
    "product_data['sentiment'] = list(products['sentiment'])\n",
    "product_data['review_clean'] = list(products['review_clean'])  # to display later\n",
    "product_data['summary'] = list(products['summary'])  # to display later\n",
    "product_data.head()"
   ]
  },
  {
   "cell_type": "markdown",
   "metadata": {
    "colab_type": "text",
    "id": "kOZtVJWloKIa"
   },
   "source": [
    "## Split data into training, validation and test sets."
   ]
  },
  {
   "cell_type": "markdown",
   "metadata": {
    "colab_type": "text",
    "id": "r8YPM64GoKIa"
   },
   "source": [
    "Let's perform a train/validation/test split with 80% of the data in the training set, 10% of the data in the validation set, 10% test. We use `random_state = 1` so that everyone gets the same result."
   ]
  },
  {
   "cell_type": "code",
   "execution_count": 11,
   "metadata": {
    "colab": {},
    "colab_type": "code",
    "id": "1Jn9EY25oKIb"
   },
   "outputs": [],
   "source": [
    "train_data, test_data = train_test_split(product_data, test_size = 0.2, random_state = 1)\n",
    "validation_data, test_data = train_test_split(test_data, test_size = 0.5, random_state = 1)"
   ]
  },
  {
   "cell_type": "markdown",
   "metadata": {
    "colab_type": "text",
    "id": "hhb1vTHhoKIe"
   },
   "source": [
    "## Baseline: Majority class prediction\n",
    "\n",
    "It is quite common to use the **majority class classifier** as the a baseline (or reference) model for comparison with your classifier model. The majority classifier model predicts the majority class for all data points. Given a classification problem with 2 classes, the majority class classifier has at least 50% accuracy."
   ]
  },
  {
   "cell_type": "code",
   "execution_count": 14,
   "metadata": {
    "colab": {},
    "colab_type": "code",
    "id": "nsmMJ6bsoKIe"
   },
   "outputs": [],
   "source": [
    "from sklearn.dummy import DummyClassifier\n",
    "maj_model = DummyClassifier(strategy = 'most_frequent').fit(validation_data[features], validation_data['sentiment'])\n",
    "dummy_predictions = maj_model.predict(validation_data[features])"
   ]
  },
  {
   "cell_type": "markdown",
   "metadata": {
    "colab_type": "text",
    "id": "Vq_Tr_NNoKIh"
   },
   "source": [
    "# Train a sentiment classifier with logistic regression\n",
    "\n",
    "We will now use logistic regression to create a sentiment classifier on the training data. This model will use the column **word_count** as a feature and the column **sentiment** as the target. sklearn.LogisticRegression (documentation here) uses a value named c for the regularization hyper-parameter where  𝑐=1𝜆 . This means a really large value of c corresponds to a very small  𝜆 .\n",
    "\n",
    "**Note:** This line may take a few minutes."
   ]
  },
  {
   "cell_type": "code",
   "execution_count": 13,
   "metadata": {
    "colab": {},
    "colab_type": "code",
    "id": "c2j7sk5ToKIi"
   },
   "outputs": [
    {
     "data": {
      "text/plain": [
       "LogisticRegression(C=1e+23, class_weight=None, dual=False, fit_intercept=True,\n",
       "          intercept_scaling=1, max_iter=100, multi_class='warn',\n",
       "          n_jobs=None, penalty='l2', random_state=1, solver='warn',\n",
       "          tol=0.0001, verbose=0, warm_start=False)"
      ]
     },
     "execution_count": 13,
     "metadata": {},
     "output_type": "execute_result"
    }
   ],
   "source": [
    "features = list(train_data.columns)\n",
    "features.remove('sentiment')\n",
    "features.remove('review_clean')\n",
    "features.remove('summary')\n",
    "\n",
    "#Note: C = 1/Lambda. Setting C to a really high value is the same as setting lambda = 0\n",
    "sentiment_model = LogisticRegression(penalty='l2', random_state = 1, C = 1e23)\n",
    "sentiment_model.fit(train_data[features], train_data['sentiment'])"
   ]
  },
  {
   "cell_type": "markdown",
   "metadata": {
    "colab_type": "text",
    "id": "y9_L_LQh_8Lh"
   },
   "source": [
    "Let's look at some of the coefficients and the corresponding words. The weights are stored in a `coef_` object: "
   ]
  },
  {
   "cell_type": "code",
   "execution_count": 15,
   "metadata": {
    "colab": {},
    "colab_type": "code",
    "id": "ncVfVHa3ABjo"
   },
   "outputs": [],
   "source": [
    "weights = sentiment_model.coef_[0]"
   ]
  },
  {
   "cell_type": "markdown",
   "metadata": {
    "colab_type": "text",
    "id": "gw4XzTba_O2c"
   },
   "source": [
    "The words are stored in the Vectorizer object:\n"
   ]
  },
  {
   "cell_type": "code",
   "execution_count": 16,
   "metadata": {
    "colab": {},
    "colab_type": "code",
    "id": "T9yXlJEwAfLi"
   },
   "outputs": [],
   "source": [
    "feature_names = dictVectorizer.get_feature_names()"
   ]
  },
  {
   "cell_type": "code",
   "execution_count": 17,
   "metadata": {
    "colab": {},
    "colab_type": "code",
    "id": "ugh01Ke9wLGR"
   },
   "outputs": [
    {
     "name": "stdout",
     "output_type": "stream",
     "text": [
      "-4.43231019277679\n"
     ]
    },
    {
     "data": {
      "text/plain": [
       "'Not'"
      ]
     },
     "execution_count": 17,
     "metadata": {},
     "output_type": "execute_result"
    }
   ],
   "source": [
    "min = float('inf')\n",
    "index = 0\n",
    "for i in range(0,len(feature_names)):\n",
    "    temp_weight = weights[i]\n",
    "    if temp_weight < min:\n",
    "        min = temp_weight\n",
    "        index = i\n",
    "        \n",
    "print(min)\n",
    "feature_names[index]"
   ]
  },
  {
   "cell_type": "markdown",
   "metadata": {
    "colab_type": "text",
    "id": "pbGv2CqIoKIs"
   },
   "source": [
    "## Making predictions with logistic regression\n",
    "\n",
    "Now that a model is trained, we can make predictions on the **validation data**. In this section, we will explore this in the context of 3 examples in the validation dataset.  We refer to this set of 3 examples as the **sample_data**."
   ]
  },
  {
   "cell_type": "code",
   "execution_count": 18,
   "metadata": {
    "colab": {},
    "colab_type": "code",
    "id": "_TOKLqPKoKIt"
   },
   "outputs": [
    {
     "data": {
      "text/html": [
       "<div>\n",
       "<style scoped>\n",
       "    .dataframe tbody tr th:only-of-type {\n",
       "        vertical-align: middle;\n",
       "    }\n",
       "\n",
       "    .dataframe tbody tr th {\n",
       "        vertical-align: top;\n",
       "    }\n",
       "\n",
       "    .dataframe thead th {\n",
       "        text-align: right;\n",
       "    }\n",
       "</style>\n",
       "<table border=\"1\" class=\"dataframe\">\n",
       "  <thead>\n",
       "    <tr style=\"text-align: right;\">\n",
       "      <th></th>\n",
       "      <th>0</th>\n",
       "      <th>1</th>\n",
       "      <th>2</th>\n",
       "      <th>3</th>\n",
       "      <th>4</th>\n",
       "      <th>5</th>\n",
       "      <th>6</th>\n",
       "      <th>7</th>\n",
       "      <th>8</th>\n",
       "      <th>9</th>\n",
       "      <th>...</th>\n",
       "      <th>13745</th>\n",
       "      <th>13746</th>\n",
       "      <th>13747</th>\n",
       "      <th>13748</th>\n",
       "      <th>13749</th>\n",
       "      <th>13750</th>\n",
       "      <th>13751</th>\n",
       "      <th>sentiment</th>\n",
       "      <th>review_clean</th>\n",
       "      <th>summary</th>\n",
       "    </tr>\n",
       "  </thead>\n",
       "  <tbody>\n",
       "    <tr>\n",
       "      <th>60</th>\n",
       "      <td>3.0</td>\n",
       "      <td>0.0</td>\n",
       "      <td>0.0</td>\n",
       "      <td>0.0</td>\n",
       "      <td>0.0</td>\n",
       "      <td>0.0</td>\n",
       "      <td>0.0</td>\n",
       "      <td>0.0</td>\n",
       "      <td>0.0</td>\n",
       "      <td>0.0</td>\n",
       "      <td>...</td>\n",
       "      <td>0.0</td>\n",
       "      <td>0.0</td>\n",
       "      <td>0.0</td>\n",
       "      <td>0.0</td>\n",
       "      <td>0.0</td>\n",
       "      <td>0.0</td>\n",
       "      <td>0.0</td>\n",
       "      <td>-1</td>\n",
       "      <td>When I was incarcerated in a Mexican prison th...</td>\n",
       "      <td>taste is awful</td>\n",
       "    </tr>\n",
       "    <tr>\n",
       "      <th>1557</th>\n",
       "      <td>0.0</td>\n",
       "      <td>0.0</td>\n",
       "      <td>0.0</td>\n",
       "      <td>0.0</td>\n",
       "      <td>0.0</td>\n",
       "      <td>0.0</td>\n",
       "      <td>0.0</td>\n",
       "      <td>0.0</td>\n",
       "      <td>0.0</td>\n",
       "      <td>0.0</td>\n",
       "      <td>...</td>\n",
       "      <td>0.0</td>\n",
       "      <td>0.0</td>\n",
       "      <td>0.0</td>\n",
       "      <td>0.0</td>\n",
       "      <td>0.0</td>\n",
       "      <td>0.0</td>\n",
       "      <td>0.0</td>\n",
       "      <td>1</td>\n",
       "      <td>a good buy for walnut piecesA known brand name...</td>\n",
       "      <td>a good buy fo walnut pieces...</td>\n",
       "    </tr>\n",
       "    <tr>\n",
       "      <th>733</th>\n",
       "      <td>3.0</td>\n",
       "      <td>0.0</td>\n",
       "      <td>0.0</td>\n",
       "      <td>0.0</td>\n",
       "      <td>0.0</td>\n",
       "      <td>0.0</td>\n",
       "      <td>0.0</td>\n",
       "      <td>0.0</td>\n",
       "      <td>0.0</td>\n",
       "      <td>0.0</td>\n",
       "      <td>...</td>\n",
       "      <td>0.0</td>\n",
       "      <td>0.0</td>\n",
       "      <td>0.0</td>\n",
       "      <td>0.0</td>\n",
       "      <td>0.0</td>\n",
       "      <td>0.0</td>\n",
       "      <td>0.0</td>\n",
       "      <td>-1</td>\n",
       "      <td>Theres a lot of talk about echinacea being a l...</td>\n",
       "      <td>There Ought To Be No \"U\" (or \"K\") in Yogi</td>\n",
       "    </tr>\n",
       "  </tbody>\n",
       "</table>\n",
       "<p>3 rows × 13755 columns</p>\n",
       "</div>"
      ],
      "text/plain": [
       "        0    1    2    3    4    5    6    7    8    9  \\\n",
       "60    3.0  0.0  0.0  0.0  0.0  0.0  0.0  0.0  0.0  0.0   \n",
       "1557  0.0  0.0  0.0  0.0  0.0  0.0  0.0  0.0  0.0  0.0   \n",
       "733   3.0  0.0  0.0  0.0  0.0  0.0  0.0  0.0  0.0  0.0   \n",
       "\n",
       "                        ...                      13745  13746  13747  13748  \\\n",
       "60                      ...                        0.0    0.0    0.0    0.0   \n",
       "1557                    ...                        0.0    0.0    0.0    0.0   \n",
       "733                     ...                        0.0    0.0    0.0    0.0   \n",
       "\n",
       "      13749  13750  13751  sentiment  \\\n",
       "60      0.0    0.0    0.0         -1   \n",
       "1557    0.0    0.0    0.0          1   \n",
       "733     0.0    0.0    0.0         -1   \n",
       "\n",
       "                                           review_clean  \\\n",
       "60    When I was incarcerated in a Mexican prison th...   \n",
       "1557  a good buy for walnut piecesA known brand name...   \n",
       "733   Theres a lot of talk about echinacea being a l...   \n",
       "\n",
       "                                        summary  \n",
       "60                               taste is awful  \n",
       "1557             a good buy fo walnut pieces...  \n",
       "733   There Ought To Be No \"U\" (or \"K\") in Yogi  \n",
       "\n",
       "[3 rows x 13755 columns]"
      ]
     },
     "execution_count": 18,
     "metadata": {},
     "output_type": "execute_result"
    }
   ],
   "source": [
    "sample_data = validation_data[10:13]\n",
    "sample_data"
   ]
  },
  {
   "cell_type": "markdown",
   "metadata": {
    "colab_type": "text",
    "id": "KWh2npR2oKIv"
   },
   "source": [
    "### Predicting sentiment\n"
   ]
  },
  {
   "cell_type": "code",
   "execution_count": 19,
   "metadata": {
    "colab": {},
    "colab_type": "code",
    "id": "mIRFoX8XoKIv"
   },
   "outputs": [
    {
     "name": "stdout",
     "output_type": "stream",
     "text": [
      "Probability predictions on the sample data:\n",
      "Negative Sentiment  Positive Sentiment\n",
      "[[9.99978293e-01 2.17069729e-05]\n",
      " [8.58944142e-05 9.99914106e-01]\n",
      " [5.18998052e-07 9.99999481e-01]]\n"
     ]
    }
   ],
   "source": [
    "print (\"Probability predictions on the sample data:\")\n",
    "print('Negative Sentiment  Positive Sentiment')\n",
    "print(sentiment_model.predict_proba(sample_data[features]))"
   ]
  },
  {
   "cell_type": "code",
   "execution_count": 20,
   "metadata": {
    "colab": {},
    "colab_type": "code",
    "id": "h06O0-eIoKIx"
   },
   "outputs": [
    {
     "name": "stdout",
     "output_type": "stream",
     "text": [
      "[-1  1  1]\n"
     ]
    }
   ],
   "source": [
    "print(sentiment_model.predict(sample_data[features]))"
   ]
  },
  {
   "cell_type": "markdown",
   "metadata": {
    "colab_type": "text",
    "id": "78wbCaipoKIy"
   },
   "source": [
    "# Find the most positive (and negative) review"
   ]
  },
  {
   "cell_type": "markdown",
   "metadata": {
    "colab_type": "text",
    "id": "Sf95GN7qoKIz"
   },
   "source": [
    "We now turn to examining the full **validation_data** dataset <span style=\"color:red\">(not sample_data)</span>, , and use `sklearn` to form predictions on all of the data points for faster performance.\n",
    "\n",
    "Using the `sentiment_model`, find review/reviews in the **validation_data** with the **highest probability** of being classified as a **positive review**. We refer to this as the \"most positive review.\""
   ]
  },
  {
   "cell_type": "code",
   "execution_count": 21,
   "metadata": {
    "colab": {},
    "colab_type": "code",
    "id": "dNzII4KgoKI0"
   },
   "outputs": [],
   "source": [
    "review_probs = sentiment_model.predict_proba(validation_data[features])\n",
    "negative_reviews = [row[0] for row in review_probs]\n",
    "positive_reviews = [row[1] for row in review_probs]\n",
    "most_positive_review = max(positive_reviews)\n",
    "most_negative_review = max(negative_reviews)\n",
    "index = 0\n",
    "min_index = 0\n",
    "\n",
    "for i in range(0, len(positive_reviews)):\n",
    "    if positive_reviews[i] == most_positive_review:\n",
    "        index = i\n",
    "        break\n",
    "\n",
    "for i in range(0, len(negative_reviews)):\n",
    "    if negative_reviews[i] == most_negative_review:\n",
    "        min_index = i\n",
    "        break\n",
    "\n",
    "\n",
    "# best review - peanuts\n",
    "# worst review - Annies something"
   ]
  },
  {
   "cell_type": "markdown",
   "metadata": {
    "colab_type": "text",
    "id": "3nH3u9b8pX_D"
   },
   "source": [
    "# Create a confusion matrix\n",
    "\n",
    "Recall that there are four values associated with a confusion matrix: true positive, true negative, false positive, and false negative which we will abberviate as TP, TN, FP, and FN, respecitvely. "
   ]
  },
  {
   "cell_type": "code",
   "execution_count": 22,
   "metadata": {
    "colab": {},
    "colab_type": "code",
    "id": "MMJbJAmxZURy"
   },
   "outputs": [],
   "source": [
    "def plot_confusion_matrix(tp, fp, fn, tn):\n",
    "    \"\"\"\n",
    "    Plots a confusion matrix using the values \n",
    "       tp - True Positive\n",
    "       fp - False Positive\n",
    "       fn - False Negative\n",
    "       tn - True Negative\n",
    "    \"\"\"\n",
    "    data = np.matrix([[tp, fp], [fn, tn]])\n",
    "    \n",
    "    sns.heatmap(data,annot=True,xticklabels=['Actual Pos', 'Actual Neg']\n",
    "              ,yticklabels=['Pred. Pos', 'Pred. Neg'])\n"
   ]
  },
  {
   "cell_type": "code",
   "execution_count": 23,
   "metadata": {
    "colab": {},
    "colab_type": "code",
    "id": "HJO0icupeMro"
   },
   "outputs": [
    {
     "data": {
      "image/png": "[encoded data removed]",
      "text/plain": [
       "<Figure size 432x288 with 2 Axes>"
      ]
     },
     "metadata": {
      "needs_background": "light"
     },
     "output_type": "display_data"
    }
   ],
   "source": [
    "pred_sentiments = sentiment_model.predict(validation_data[features])\n",
    "true_sentiments = validation_data['sentiment']\n",
    "tp = 0\n",
    "fp = 0\n",
    "tn = 0\n",
    "fn = 0\n",
    "count = 0\n",
    "\n",
    "for val in true_sentiments:\n",
    "    if val == 1:\n",
    "        if pred_sentiments[count] == 1:\n",
    "            tp = tp + 1\n",
    "            count = count + 1\n",
    "        else:\n",
    "            fn = fn + 1\n",
    "            count = count + 1\n",
    "    else:\n",
    "        if pred_sentiments[count] == -1:\n",
    "            tn = tn + 1\n",
    "            count = count + 1\n",
    "        else:\n",
    "            fp = fp + 1\n",
    "            count = count + 1\n",
    "            \n",
    "plot_confusion_matrix(tp, fp, fn, tn)"
   ]
  },
  {
   "cell_type": "markdown",
   "metadata": {
    "colab_type": "text",
    "id": "cPgLBPoKw5s_"
   },
   "source": [
    "# Calculating Accuracy\n",
    "\n",
    "Now that we have succesfully trained a model, let's compare the accuracy of the sentiment_model to that of the baseline classifier.\n",
    "\n",
    "Below, calculate the accuracy of each model using sklearn's [accuracy_score](https://scikit-learn.org/stable/modules/generated/sklearn.metrics.accuracy_score.html) function."
   ]
  },
  {
   "cell_type": "code",
   "execution_count": 85,
   "metadata": {
    "colab": {},
    "colab_type": "code",
    "id": "C7nVSy4nxbX6"
   },
   "outputs": [
    {
     "data": {
      "text/plain": [
       "0.5144508670520231"
      ]
     },
     "execution_count": 85,
     "metadata": {},
     "output_type": "execute_result"
    }
   ],
   "source": [
    "from sklearn.metrics import accuracy_score\n",
    "\n",
    "acc = accuracy_score(true_sentiments, pred_sentiments)\n",
    "dummy_ac = accuracy_score(true_sentiments, dummy_predictions)\n",
    "dummy_ac"
   ]
  },
  {
   "cell_type": "markdown",
   "metadata": {
    "colab_type": "text",
    "id": "W1QAQLi2oKJE"
   },
   "source": [
    "### Logistic Regression with L2 regularization\n"
   ]
  },
  {
   "cell_type": "markdown",
   "metadata": {
    "colab_type": "text",
    "id": "FIMO7sWJoKJH"
   },
   "source": [
    "Now that we have written up all the pieces needed for regularized logistic regression, let's explore the benefits of using **L2 regularization** in analyzing sentiment for product reviews. **As iterations pass, the log likelihood should increase**.\n"
   ]
  },
  {
   "cell_type": "code",
   "execution_count": 54,
   "metadata": {
    "colab": {},
    "colab_type": "code",
    "id": "btYFyFPxoKJI"
   },
   "outputs": [
    {
     "data": {
      "text/html": [
       "<div>\n",
       "<style scoped>\n",
       "    .dataframe tbody tr th:only-of-type {\n",
       "        vertical-align: middle;\n",
       "    }\n",
       "\n",
       "    .dataframe tbody tr th {\n",
       "        vertical-align: top;\n",
       "    }\n",
       "\n",
       "    .dataframe thead th {\n",
       "        text-align: right;\n",
       "    }\n",
       "</style>\n",
       "<table border=\"1\" class=\"dataframe\">\n",
       "  <thead>\n",
       "    <tr style=\"text-align: right;\">\n",
       "      <th></th>\n",
       "      <th>word</th>\n",
       "      <th>coefficients [L2=1]</th>\n",
       "      <th>coefficients [L2=4]</th>\n",
       "      <th>coefficients [L2=10]</th>\n",
       "      <th>coefficients [L2=1e2]</th>\n",
       "      <th>coefficients [L2=1e3]</th>\n",
       "      <th>coefficients [L2=1e5]</th>\n",
       "    </tr>\n",
       "  </thead>\n",
       "  <tbody>\n",
       "    <tr>\n",
       "      <th>0</th>\n",
       "      <td></td>\n",
       "      <td>0.039937</td>\n",
       "      <td>0.030597</td>\n",
       "      <td>0.027102</td>\n",
       "      <td>0.026090</td>\n",
       "      <td>0.019582</td>\n",
       "      <td>-0.000500</td>\n",
       "    </tr>\n",
       "    <tr>\n",
       "      <th>1</th>\n",
       "      <td>0</td>\n",
       "      <td>0.137753</td>\n",
       "      <td>0.108966</td>\n",
       "      <td>0.087793</td>\n",
       "      <td>0.029444</td>\n",
       "      <td>0.003514</td>\n",
       "      <td>0.000027</td>\n",
       "    </tr>\n",
       "    <tr>\n",
       "      <th>2</th>\n",
       "      <td>0000</td>\n",
       "      <td>0.045107</td>\n",
       "      <td>0.023884</td>\n",
       "      <td>0.013162</td>\n",
       "      <td>0.002197</td>\n",
       "      <td>0.000387</td>\n",
       "      <td>0.000005</td>\n",
       "    </tr>\n",
       "    <tr>\n",
       "      <th>3</th>\n",
       "      <td>002</td>\n",
       "      <td>-0.001946</td>\n",
       "      <td>-0.001643</td>\n",
       "      <td>-0.001363</td>\n",
       "      <td>-0.000672</td>\n",
       "      <td>-0.000173</td>\n",
       "      <td>-0.000004</td>\n",
       "    </tr>\n",
       "    <tr>\n",
       "      <th>4</th>\n",
       "      <td>004</td>\n",
       "      <td>-0.001946</td>\n",
       "      <td>-0.001643</td>\n",
       "      <td>-0.001363</td>\n",
       "      <td>-0.000672</td>\n",
       "      <td>-0.000173</td>\n",
       "      <td>-0.000004</td>\n",
       "    </tr>\n",
       "  </tbody>\n",
       "</table>\n",
       "</div>"
      ],
      "text/plain": [
       "   word  coefficients [L2=1]  coefficients [L2=4]  coefficients [L2=10]  \\\n",
       "0                   0.039937             0.030597              0.027102   \n",
       "1     0             0.137753             0.108966              0.087793   \n",
       "2  0000             0.045107             0.023884              0.013162   \n",
       "3   002            -0.001946            -0.001643             -0.001363   \n",
       "4   004            -0.001946            -0.001643             -0.001363   \n",
       "\n",
       "   coefficients [L2=1e2]  coefficients [L2=1e3]  coefficients [L2=1e5]  \n",
       "0               0.026090               0.019582              -0.000500  \n",
       "1               0.029444               0.003514               0.000027  \n",
       "2               0.002197               0.000387               0.000005  \n",
       "3              -0.000672              -0.000173              -0.000004  \n",
       "4              -0.000672              -0.000173              -0.000004  "
      ]
     },
     "execution_count": 54,
     "metadata": {},
     "output_type": "execute_result"
    }
   ],
   "source": [
    "l2_penalties = [1, 4, 10, 1e2, 1e3, 1e5]\n",
    "l2_penalty_names = ['coefficients [L2=1]', 'coefficients [L2=4]', 'coefficients [L2=10]', \n",
    "                    'coefficients [L2=1e2]', 'coefficients [L2=1e3]', 'coefficients [L2=1e5]']\n",
    "\n",
    "# Add the coefficients to this table for each model\n",
    "table = pd.DataFrame(columns = ['word'] + l2_penalty_names)\n",
    "table['word'] = feature_names\n",
    "\n",
    "for l2_penalty, column_name in zip(l2_penalties, l2_penalty_names):\n",
    "    model = LogisticRegression(penalty='l2', random_state = 1, C = 1/l2_penalty, fit_intercept = False)\n",
    "    model.fit(train_data[features], train_data['sentiment'])\n",
    "    cfs = model.coef_[0]\n",
    "    table[column_name] = cfs\n",
    "\n",
    "table.head()"
   ]
  },
  {
   "cell_type": "markdown",
   "metadata": {
    "colab_type": "text",
    "id": "ph4NS_uAoKJP"
   },
   "source": [
    "## Look at the Coefficients\n",
    "\n",
    "We'll now look at the **coefficients** for the model that were trained above. We will create a table of features and learned coefficients associated with each of the different L2 penalty values."
   ]
  },
  {
   "cell_type": "code",
   "execution_count": 86,
   "metadata": {
    "colab": {},
    "colab_type": "code",
    "id": "ITQA7FG7HQ4f"
   },
   "outputs": [
    {
     "name": "stdout",
     "output_type": "stream",
     "text": [
      "2501        Not\n",
      "4673      bland\n",
      "12961     tried\n",
      "9564        not\n",
      "4657     bitter\n",
      "Name: word, dtype: object\n",
      "7620        great\n",
      "6538         easy\n",
      "1693        Great\n",
      "4598         best\n",
      "6056    delicious\n",
      "Name: word, dtype: object\n"
     ]
    }
   ],
   "source": [
    "temp = table[['word', 'coefficients [L2=1]']]\n",
    "positive_words = temp.nlargest(5, 'coefficients [L2=1]').word\n",
    "negative_words = temp.nsmallest(5, 'coefficients [L2=1]').word\n",
    "print(negative_words)\n",
    "print(positive_words)"
   ]
  },
  {
   "cell_type": "markdown",
   "metadata": {
    "colab_type": "text",
    "id": "3VUHUPkUoKJT"
   },
   "source": [
    "Let us observe the effect of increasing L2 penalty on the 10 words just selected."
   ]
  },
  {
   "cell_type": "code",
   "execution_count": 80,
   "metadata": {
    "colab": {},
    "colab_type": "code",
    "id": "6BcgdwrooKJT"
   },
   "outputs": [],
   "source": [
    "plt.rcParams['figure.figsize'] = 10, 6\n",
    "\n",
    "def make_coefficient_plot(table, positive_words, negative_words, l2_penalty_list):\n",
    "    cmap_positive = plt.get_cmap('Reds')\n",
    "    cmap_negative = plt.get_cmap('Blues')\n",
    "    \n",
    "    xx = l2_penalty_list\n",
    "    plt.plot(xx, [0.]*len(xx), '--', lw=1, color='k')\n",
    "    \n",
    "    table_positive_words = table[table['word'].isin(positive_words)]\n",
    "    table_negative_words = table[table['word'].isin(negative_words)]\n",
    "    del table_positive_words['word']\n",
    "    del table_negative_words['word']\n",
    "    \n",
    "    for i in range(len(positive_words)):\n",
    "        color = cmap_positive(0.8*((i+1)/(len(positive_words)*1.2)+0.15))\n",
    "        plt.plot(xx, list(table_positive_words.iloc[i]),\n",
    "                 '-', label=positive_words.iloc[i], linewidth=4.0, color=color)\n",
    "        \n",
    "    for i in range(len(negative_words)):\n",
    "        color = cmap_negative(0.8*((i+1)/(len(negative_words)*1.2)+0.15))\n",
    "        plt.plot(xx, list(table_negative_words.iloc[i]),\n",
    "                 '-', label=negative_words.iloc[i], linewidth=4.0, color=color)\n",
    "        \n",
    "    plt.legend(loc='best', ncol=3, prop={'size':16}, columnspacing=0.5)\n",
    "    plt.axis([1, 1e5, -3, 2])\n",
    "    plt.title('Coefficient path')\n",
    "    plt.xlabel('L2 penalty ($\\lambda$)')\n",
    "    plt.ylabel('Coefficient value')\n",
    "    plt.xscale('log')\n",
    "    plt.rcParams.update({'font.size': 18})\n",
    "    plt.tight_layout()"
   ]
  },
  {
   "cell_type": "code",
   "execution_count": 81,
   "metadata": {
    "colab": {},
    "colab_type": "code",
    "id": "sL58jNKboKJV"
   },
   "outputs": [
    {
     "data": {
      "image/png": "[encoded data removed]",
      "text/plain": [
       "<Figure size 720x432 with 1 Axes>"
      ]
     },
     "metadata": {
      "needs_background": "light"
     },
     "output_type": "display_data"
    }
   ],
   "source": [
    "make_coefficient_plot(table, positive_words, negative_words, l2_penalty_list=[1, 4, 10, 1e2, 1e3, 1e5])"
   ]
  },
  {
   "cell_type": "markdown",
   "metadata": {
    "colab_type": "text",
    "id": "vVovzZCd1gDn"
   },
   "source": [
    "Calculate how the accuracy on the validation data changes with the increase of the l2 penalty. "
   ]
  },
  {
   "cell_type": "code",
   "execution_count": 84,
   "metadata": {
    "colab": {},
    "colab_type": "code",
    "id": "4s9hJNhn2EEL"
   },
   "outputs": [
    {
     "name": "stdout",
     "output_type": "stream",
     "text": [
      "Accuracy is 0.8208092485549133\n",
      "Accuracy is 0.8092485549132948\n",
      "Accuracy is 0.8034682080924855\n",
      "Accuracy is 0.7687861271676301\n",
      "Accuracy is 0.7052023121387283\n",
      "Accuracy is 0.5664739884393064\n"
     ]
    }
   ],
   "source": [
    "# TODO\n",
    "for l2_penalty in l2_penalties:\n",
    "    model = LogisticRegression(penalty='l2', random_state = 1, C = 1/l2_penalty, fit_intercept = False)\n",
    "    model.fit(train_data[features], train_data['sentiment'])\n",
    "    predictions = model.predict(test_data[features])\n",
    "    print('Accuracy is ' + str(accuracy_score(test_data['sentiment'], predictions)))"
   ]
  }
 ],
 "metadata": {
  "colab": {
   "collapsed_sections": [],
   "name": "A3_Sentiment_Analysis_Logistic_Regression.ipynb",
   "provenance": []
  },
  "kernelspec": {
   "display_name": "Python 3",
   "language": "python",
   "name": "python3"
  },
  "language_info": {
   "codemirror_mode": {
    "name": "ipython",
    "version": 3
   },
   "file_extension": ".py",
   "mimetype": "text/x-python",
   "name": "python",
   "nbconvert_exporter": "python",
   "pygments_lexer": "ipython3",
   "version": "3.7.10"
  }
 },
 "nbformat": 4,
 "nbformat_minor": 1
}
